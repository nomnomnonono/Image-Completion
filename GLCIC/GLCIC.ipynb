{
  "nbformat": 4,
  "nbformat_minor": 0,
  "metadata": {
    "colab": {
      "name": "GLCIC.ipynb",
      "provenance": [],
      "collapsed_sections": [
        "T4lczX-noJji",
        "abqtwZEuOoXs",
        "yyHr26bPrEkk",
        "xLQJmAN3a-yE",
        "s47bRowNckH7",
        "o-gZkZ5thPvF",
        "XCkCQBSnsGNr",
        "ZbS6_aYgsLEn",
        "vwvZ7qQksLMq"
      ],
      "include_colab_link": true
    },
    "kernelspec": {
      "name": "python3",
      "display_name": "Python 3"
    },
    "language_info": {
      "name": "python"
    },
    "accelerator": "GPU"
  },
  "cells": [
    {
      "cell_type": "markdown",
      "metadata": {
        "id": "view-in-github",
        "colab_type": "text"
      },
      "source": [
        "<a href=\"https://colab.research.google.com/github/nomnomnonono/Image-Completion/blob/main/GLCIC/GLCIC.ipynb\" target=\"_parent\"><img src=\"https://colab.research.google.com/assets/colab-badge.svg\" alt=\"Open In Colab\"/></a>"
      ]
    },
    {
      "cell_type": "code",
      "metadata": {
        "colab": {
          "base_uri": "https://localhost:8080/"
        },
        "id": "EHHyhN5aPHGD",
        "outputId": "7cb715a1-8c57-419e-daa1-100ae1d8bf43"
      },
      "source": [
        "!nvidia-smi"
      ],
      "execution_count": null,
      "outputs": [
        {
          "output_type": "stream",
          "name": "stdout",
          "text": [
            "Mon Dec  6 14:28:55 2021       \n",
            "+-----------------------------------------------------------------------------+\n",
            "| NVIDIA-SMI 495.44       Driver Version: 460.32.03    CUDA Version: 11.2     |\n",
            "|-------------------------------+----------------------+----------------------+\n",
            "| GPU  Name        Persistence-M| Bus-Id        Disp.A | Volatile Uncorr. ECC |\n",
            "| Fan  Temp  Perf  Pwr:Usage/Cap|         Memory-Usage | GPU-Util  Compute M. |\n",
            "|                               |                      |               MIG M. |\n",
            "|===============================+======================+======================|\n",
            "|   0  Tesla P100-PCIE...  Off  | 00000000:00:04.0 Off |                    0 |\n",
            "| N/A   42C    P0    27W / 250W |      0MiB / 16280MiB |      0%      Default |\n",
            "|                               |                      |                  N/A |\n",
            "+-------------------------------+----------------------+----------------------+\n",
            "                                                                               \n",
            "+-----------------------------------------------------------------------------+\n",
            "| Processes:                                                                  |\n",
            "|  GPU   GI   CI        PID   Type   Process name                  GPU Memory |\n",
            "|        ID   ID                                                   Usage      |\n",
            "|=============================================================================|\n",
            "|  No running processes found                                                 |\n",
            "+-----------------------------------------------------------------------------+\n"
          ]
        }
      ]
    },
    {
      "cell_type": "code",
      "metadata": {
        "colab": {
          "base_uri": "https://localhost:8080/"
        },
        "id": "bpJidl3qZNci",
        "outputId": "40014797-d111-4797-a4c7-cd024fc3609e"
      },
      "source": [
        "from google.colab import drive\n",
        "drive.mount(\"/content/drive\")"
      ],
      "execution_count": null,
      "outputs": [
        {
          "output_type": "stream",
          "name": "stdout",
          "text": [
            "Mounted at /content/drive\n"
          ]
        }
      ]
    },
    {
      "cell_type": "markdown",
      "metadata": {
        "id": "T4lczX-noJji"
      },
      "source": [
        "## ライブラリの読み込み"
      ]
    },
    {
      "cell_type": "code",
      "metadata": {
        "id": "_8IkHmynoJwK"
      },
      "source": [
        "import sys\n",
        "sys.path.append(\"/content/drive/MyDrive/Colab Notebooks/experiment/final\")"
      ],
      "execution_count": null,
      "outputs": []
    },
    {
      "cell_type": "code",
      "metadata": {
        "id": "mYl43JZQoJ6v"
      },
      "source": [
        "import torch\n",
        "from torch.nn import BCELoss, DataParallel\n",
        "from torch.nn.functional import mse_loss\n",
        "from torch.optim import Adadelta, Adam\n",
        "from torch.utils.data import DataLoader\n",
        "import torchvision.transforms as transforms\n",
        "from torchvision.utils import save_image\n",
        "\n",
        "from PIL import Image\n",
        "import joblib\n",
        "import json\n",
        "import itertools\n",
        "import os\n",
        "import matplotlib.pyplot as plt\n",
        "import numpy as np\n",
        "from tqdm import tqdm\n",
        "\n",
        "from datasets import ImageDataset\n",
        "from losses import completion_network_loss\n",
        "from models import CompletionNetwork, ContextDiscriminator\n",
        "from utils import crop, define_hole_area, generate_mask, get_completion_image, sample_random_batch"
      ],
      "execution_count": null,
      "outputs": []
    },
    {
      "cell_type": "markdown",
      "metadata": {
        "id": "abqtwZEuOoXs"
      },
      "source": [
        "## 初期設定"
      ]
    },
    {
      "cell_type": "code",
      "metadata": {
        "id": "nDAabPu6OooN"
      },
      "source": [
        "data_dir = \"img_align_celeba\"\n",
        "result_dir = \"/content/drive/MyDrive/Colab Notebooks/experiment/final/result\"\n",
        "recursive_search = False\n",
        "data_parallel = False\n",
        "device = torch.device('cuda')\n",
        "init_model_cn = os.path.join(result_dir, 'phase_1', 'step90000.pth')\n",
        "init_model_cd = os.path.join(result_dir, 'phase_2', 'step10000.pth')\n",
        "cn_input_size = 120\n",
        "ld_input_size = 72\n",
        "hole_min_w = 36\n",
        "hole_max_w = 72\n",
        "hole_min_h = 36\n",
        "hole_max_h = 72\n",
        "steps1 = 90000\n",
        "steps2 = 10000\n",
        "steps3 = 400000\n",
        "snaperiod1 = 10000\n",
        "snaperiod2 = 1000\n",
        "snaperiod3 = 10000\n",
        "bsize = 16\n",
        "bdivs = 1\n",
        "alpha = 4e-4\n",
        "num_test_completions = 16"
      ],
      "execution_count": null,
      "outputs": []
    },
    {
      "cell_type": "markdown",
      "metadata": {
        "id": "yyHr26bPrEkk"
      },
      "source": [
        "## 画像の読み込み"
      ]
    },
    {
      "cell_type": "code",
      "metadata": {
        "id": "2eumfF743KHV"
      },
      "source": [
        "!mkdir train test"
      ],
      "execution_count": null,
      "outputs": []
    },
    {
      "cell_type": "code",
      "metadata": {
        "id": "Y_xz680PZvkK"
      },
      "source": [
        "!cp \"/content/drive/MyDrive/Colab Notebooks/experiment/final/img_align_celeba.zip\" \".\"\n",
        "!unzip -q img_align_celeba.zip\n",
        "!mv img_align_celeba/2* test/"
      ],
      "execution_count": null,
      "outputs": []
    },
    {
      "cell_type": "code",
      "metadata": {
        "colab": {
          "base_uri": "https://localhost:8080/"
        },
        "id": "wOlOw2zxbNHE",
        "outputId": "aca9d1f5-ed21-4161-c219-3cf2e5237d59"
      },
      "source": [
        "# Number of Images\n",
        "!ls \"img_align_celeba\" -1 | wc -l\n",
        "!ls \"test\" -1 | wc -l"
      ],
      "execution_count": null,
      "outputs": [
        {
          "output_type": "stream",
          "name": "stdout",
          "text": [
            "199999\n",
            "2600\n"
          ]
        }
      ]
    },
    {
      "cell_type": "code",
      "metadata": {
        "id": "P7cAbrpVFBqZ"
      },
      "source": [
        "if not os.path.exists(result_dir):\n",
        "        os.makedirs(result_dir)\n",
        "for phase in ['phase_1', 'phase_2', 'phase_3']:\n",
        "    if not os.path.exists(os.path.join(result_dir, phase)):\n",
        "        os.makedirs(os.path.join(result_dir, phase))"
      ],
      "execution_count": null,
      "outputs": []
    },
    {
      "cell_type": "markdown",
      "metadata": {
        "id": "xLQJmAN3a-yE"
      },
      "source": [
        "## データセット"
      ]
    },
    {
      "cell_type": "code",
      "metadata": {
        "id": "M6jVSFIPKCq1"
      },
      "source": [
        "transform = transforms.Compose([\n",
        "        transforms.Resize(cn_input_size),\n",
        "        transforms.RandomCrop((cn_input_size, cn_input_size)),\n",
        "        transforms.ToTensor(),\n",
        "])\n",
        "\n",
        "train = ImageDataset('img_align_celeba', transform, recursive_search=recursive_search)\n",
        "train_loader = DataLoader(train, batch_size=bsize//bdivs, shuffle=True)\n",
        "test = ImageDataset('test', transform, recursive_search=recursive_search)"
      ],
      "execution_count": null,
      "outputs": []
    },
    {
      "cell_type": "markdown",
      "metadata": {
        "id": "s47bRowNckH7"
      },
      "source": [
        "## mpvの計算・読み込み"
      ]
    },
    {
      "cell_type": "code",
      "metadata": {
        "colab": {
          "base_uri": "https://localhost:8080/"
        },
        "id": "ZM_QgzXIcmm6",
        "outputId": "50f7c05c-0f78-4800-9386-33c921f081a6"
      },
      "source": [
        "mpv = np.zeros(shape=(3,))\n",
        "pbar = tqdm(total=len(train.imgpaths),\n",
        "            desc='computing mean pixel value')\n",
        "for img_path in train.imgpaths:\n",
        "  img = Image.open(img_path)\n",
        "  x = np.array(img).astype('float32') / 255.\n",
        "  mpv += x.mean(axis=(0, 1))\n",
        "  pbar.update()\n",
        "mpv /= len(train.imgpaths)\n",
        "pbar.close"
      ],
      "execution_count": null,
      "outputs": [
        {
          "output_type": "stream",
          "name": "stderr",
          "text": [
            "computing mean pixel value: 100%|█████████▉| 199950/199999 [06:26<00:00, 525.50it/s]"
          ]
        },
        {
          "output_type": "execute_result",
          "data": {
            "text/plain": [
              "<bound method tqdm.close of <tqdm.std.tqdm object at 0x7fda5bfef3d0>>"
            ]
          },
          "metadata": {},
          "execution_count": 10
        }
      ]
    },
    {
      "cell_type": "code",
      "metadata": {
        "id": "QLHeRhdU0ZfE"
      },
      "source": [
        "mpv_json = open(os.path.join(result_dir, 'config.json'), 'r')\n",
        "mpv_data = json.load(mpv_json)\n",
        "mpv = mpv_data['mpv']\n",
        "mpv = np.array(mpv)"
      ],
      "execution_count": null,
      "outputs": []
    },
    {
      "cell_type": "code",
      "metadata": {
        "id": "GgeoWRgcgvZ0"
      },
      "source": [
        "mpv = torch.tensor(mpv.reshape(1, 3, 1, 1), dtype=torch.float32).to(device)\n",
        "alpha = torch.tensor(alpha, dtype=torch.float32).to(device)"
      ],
      "execution_count": null,
      "outputs": []
    },
    {
      "cell_type": "markdown",
      "metadata": {
        "id": "o-gZkZ5thPvF"
      },
      "source": [
        "## Training"
      ]
    },
    {
      "cell_type": "markdown",
      "metadata": {
        "id": "XCkCQBSnsGNr"
      },
      "source": [
        "### Phase 1"
      ]
    },
    {
      "cell_type": "code",
      "metadata": {
        "id": "3UefQX0WdvyH"
      },
      "source": [
        "model_cn = CompletionNetwork()\n",
        "if init_model_cn is not None:\n",
        "  model_cn.load_state_dict(torch.load(init_model_cn, map_location='cpu'))\n",
        "if data_parallel:\n",
        "  model_cn = DataParallel(model_cn)\n",
        "model_cn = model_cn.to(device)\n",
        "opt_cn = Adadelta(model_cn.parameters())\n",
        "G_loss = []"
      ],
      "execution_count": null,
      "outputs": []
    },
    {
      "cell_type": "code",
      "metadata": {
        "colab": {
          "base_uri": "https://localhost:8080/"
        },
        "id": "Y3uccmTYr5Gs",
        "outputId": "b3bfb62c-26af-4f9d-9519-4ea821ef9ef9"
      },
      "source": [
        "cnt_bdivs = 0\n",
        "pbar = tqdm(total=steps1-10000)\n",
        "\n",
        "while pbar.n < steps1-10000:\n",
        "  for x in train_loader:\n",
        "    # forward\n",
        "    x = x.to(device)\n",
        "    mask = generate_mask(\n",
        "        shape=(x.shape[0], 1, x.shape[2], x.shape[3]),\n",
        "        hole_size=((hole_min_w, hole_max_w),\n",
        "                   (hole_min_h, hole_max_h)),\n",
        "        hole_area=define_hole_area(\n",
        "            (ld_input_size, ld_input_size),\n",
        "            (x.shape[3], x.shape[2])\n",
        "        )[0]\n",
        "    ).to(device)\n",
        "    x_mask = x - x * mask + mpv * mask\n",
        "    input = torch.cat((x_mask, mask), dim=1)\n",
        "    output = model_cn(input)\n",
        "    #loss = completion_network_loss(x, output, mask)\n",
        "    loss = mse_loss(x*mask, output*mask)\n",
        "    G_loss.append(loss)\n",
        "\n",
        "    # backward\n",
        "    loss.backward()\n",
        "    cnt_bdivs += 1\n",
        "    if cnt_bdivs >= bdivs:\n",
        "      cnt_bdivs = 0\n",
        "      opt_cn.step()\n",
        "      opt_cn.zero_grad()\n",
        "      pbar.set_description('phase 1 | train loss: %.5f' % loss.cpu())\n",
        "      pbar.update()\n",
        "\n",
        "      # test\n",
        "      if pbar.n % snaperiod1 == 0:\n",
        "        model_cn.eval()\n",
        "        with torch.no_grad():\n",
        "          x = sample_random_batch(\n",
        "              test,\n",
        "              batch_size=num_test_completions\n",
        "          ).to(device)\n",
        "          mask = generate_mask(\n",
        "              shape=(x.shape[0], 1, x.shape[2], x.shape[3]),\n",
        "              hole_size=((hole_min_w, hole_max_w),\n",
        "                         (hole_min_h, hole_max_h)),\n",
        "              hole_area=define_hole_area(\n",
        "              (ld_input_size, ld_input_size),\n",
        "              (x.shape[3], x.shape[2])\n",
        "              )[0]\n",
        "          ).to(device)\n",
        "          x_mask = x - x * mask + mpv * mask\n",
        "          input = torch.cat((x_mask, mask), dim=1)\n",
        "          output = model_cn(input)\n",
        "          completed = get_completion_image(x_mask, output, mask)\n",
        "          # 結果とモデルの保存\n",
        "          imgs = torch.cat((\n",
        "              x.cpu(),\n",
        "              x_mask.cpu(),\n",
        "              completed.cpu()\n",
        "          ), dim=0)\n",
        "          img_path = os.path.join(\n",
        "              result_dir, 'phase_1', 'step%d.jpg' % (pbar.n+10000)\n",
        "          )\n",
        "          save_image(imgs, img_path, nrow=len(x))\n",
        "          model_cn_path = os.path.join(\n",
        "              result_dir, 'phase_1', 'step%d.pth' % (pbar.n+10000)\n",
        "          )\n",
        "          torch.save(\n",
        "              model_cn.state_dict(),\n",
        "              model_cn_path\n",
        "          )\n",
        "        model_cn.train()\n",
        "      if pbar.n >= steps1-10000:\n",
        "        break\n",
        "    break\n",
        "pbar.close()"
      ],
      "execution_count": null,
      "outputs": [
        {
          "output_type": "stream",
          "name": "stderr",
          "text": [
            "  0%|          | 9/80000 [00:52<128:44:23,  5.79s/it]\n",
            "phase 1 | train loss: 0.00202: 100%|██████████| 80000/80000 [3:55:30<00:00,  5.66it/s]\n"
          ]
        }
      ]
    },
    {
      "cell_type": "code",
      "metadata": {
        "id": "FRMb2C1nxOh6"
      },
      "source": [
        "before = joblib.load(os.path.join(result_dir, 'phase_1', 'G_loss10000.txt'))"
      ],
      "execution_count": null,
      "outputs": []
    },
    {
      "cell_type": "code",
      "metadata": {
        "colab": {
          "base_uri": "https://localhost:8080/",
          "height": 283
        },
        "id": "udUTGEM6xeQO",
        "outputId": "acb68471-a054-417a-e9ec-0707a3c81089"
      },
      "source": [
        "total_loss = list(itertools.chain(before, G_loss))"
      ],
      "execution_count": null,
      "outputs": [
        {
          "output_type": "execute_result",
          "data": {
            "text/plain": [
              "[<matplotlib.lines.Line2D at 0x7fa726307350>]"
            ]
          },
          "metadata": {},
          "execution_count": 36
        },
        {
          "output_type": "display_data",
          "data": {
            "image/png": "[encoded data removed]",
            "text/plain": [
              "<Figure size 432x288 with 1 Axes>"
            ]
          },
          "metadata": {
            "needs_background": "light"
          }
        }
      ]
    },
    {
      "cell_type": "code",
      "metadata": {
        "colab": {
          "base_uri": "https://localhost:8080/",
          "height": 295
        },
        "id": "xkUl71LTqIyN",
        "outputId": "15b0d9bb-759f-416b-9908-b6351f9de9f3"
      },
      "source": [
        "fig = plt.figure()\n",
        "plt.plot(total_loss)\n",
        "plt.xlabel('Iteration')\n",
        "plt.ylabel('Loss')\n",
        "plt.title('Generator')\n",
        "fig.savefig(os.path.join(result_dir, 'phase_1', 'G_loss90000.png'))"
      ],
      "execution_count": null,
      "outputs": [
        {
          "output_type": "display_data",
          "data": {
            "image/png": "[encoded data removed]",
            "text/plain": [
              "<Figure size 432x288 with 1 Axes>"
            ]
          },
          "metadata": {
            "needs_background": "light"
          }
        }
      ]
    },
    {
      "cell_type": "code",
      "metadata": {
        "colab": {
          "base_uri": "https://localhost:8080/"
        },
        "id": "9J-pA_kwFFJ_",
        "outputId": "7478c555-b6c5-46f8-df3e-a8ba62d2ac30"
      },
      "source": [
        "joblib.dump(total_loss, os.path.join(result_dir, 'phase_1', 'G_loss90000.txt'))"
      ],
      "execution_count": null,
      "outputs": [
        {
          "output_type": "execute_result",
          "data": {
            "text/plain": [
              "['/content/drive/MyDrive/Colab Notebooks/experiment/final/result/phase_1/G_loss90000.txt']"
            ]
          },
          "metadata": {},
          "execution_count": 41
        }
      ]
    },
    {
      "cell_type": "markdown",
      "metadata": {
        "id": "ZbS6_aYgsLEn"
      },
      "source": [
        "### Phase2"
      ]
    },
    {
      "cell_type": "code",
      "metadata": {
        "id": "nvPapGIYjuoK"
      },
      "source": [
        "model_cd = ContextDiscriminator(\n",
        "    local_input_shape=(3, ld_input_size, ld_input_size),\n",
        "    global_input_shape=(3, cn_input_size, cn_input_size)\n",
        ")\n",
        "if init_model_cd is not None:\n",
        "  model_cd.load_state_dict(torch.load(init_model_cd, map_location='cpu'))\n",
        "model_cd = model_cd.to(device)\n",
        "opt_cd = Adadelta(model_cd.parameters())\n",
        "loss_cd = BCELoss()\n",
        "D_loss = []"
      ],
      "execution_count": null,
      "outputs": []
    },
    {
      "cell_type": "code",
      "metadata": {
        "colab": {
          "base_uri": "https://localhost:8080/"
        },
        "id": "pzbU-n0Fl8X2",
        "outputId": "662ebfbc-d508-402c-a323-714f9ef61a3f"
      },
      "source": [
        "cnt_bdivs = 0\n",
        "pbar = tqdm(total=steps2-1000)\n",
        "while pbar.n < steps2-1000:\n",
        "  for x in train_loader:\n",
        "    x = x.to(device)\n",
        "    # fake forward\n",
        "    hole_area_fake = define_hole_area(\n",
        "        (ld_input_size, ld_input_size),\n",
        "        (x.shape[3], x.shape[2])\n",
        "    )\n",
        "    mask = generate_mask(\n",
        "        shape=(\n",
        "            x.shape[0], 1, x.shape[2], x.shape[3]\n",
        "        ),\n",
        "        hole_size=(\n",
        "            (hole_min_w, hole_max_w), (hole_min_h, hole_max_h)\n",
        "        ),\n",
        "        hole_area=hole_area_fake[0]\n",
        "    ).to(device)\n",
        "    fake = torch.zeros((len(x), 1)).to(device)\n",
        "    x_mask = x - x * mask + mpv * mask\n",
        "    input_cn = torch.cat((x_mask, mask), dim=1)\n",
        "    output_cn = model_cn(input_cn)\n",
        "    input_gd_fake = output_cn.detach()\n",
        "    input_ld_fake = crop(input_gd_fake, hole_area_fake)\n",
        "    output_fake = model_cd((\n",
        "        input_ld_fake.to(device),\n",
        "        input_gd_fake.to(device)))\n",
        "    loss_fake = loss_cd(output_fake, fake)\n",
        "    # real forward\n",
        "    hole_area_real = define_hole_area(\n",
        "        (ld_input_size, ld_input_size),\n",
        "        (x.shape[3], x.shape[2])\n",
        "    )\n",
        "    real = torch.ones((len(x), 1)).to(device)\n",
        "    input_gd_real = x\n",
        "    input_ld_real = crop(input_gd_real, hole_area_real)\n",
        "    output_real = model_cd((input_ld_real, input_gd_real))\n",
        "    loss_real = loss_cd(output_real, real)\n",
        "\n",
        "    loss = (loss_fake + loss_real) / 2\n",
        "    D_loss.append(loss)\n",
        "\n",
        "    # backward\n",
        "    loss.backward()\n",
        "    cnt_bdivs += 1\n",
        "    if cnt_bdivs >= bdivs:\n",
        "      cnt_bdivs = 0\n",
        "      opt_cd.step()\n",
        "      opt_cd.zero_grad()\n",
        "      pbar.set_description('phase 2 | train loss: %.5f' % loss.cpu())\n",
        "      pbar.update()\n",
        "\n",
        "      # test\n",
        "      if pbar.n % snaperiod2 == 0:\n",
        "        model_cn.eval()\n",
        "        with torch.no_grad():\n",
        "          x = sample_random_batch(test, batch_size=num_test_completions).to(device)\n",
        "          mask = generate_mask(\n",
        "              shape=(x.shape[0], 1, x.shape[2], x.shape[3]),\n",
        "              hole_size=((hole_min_w, hole_max_w),\n",
        "                         (hole_min_h, hole_max_h)),\n",
        "              hole_area=define_hole_area(\n",
        "              (ld_input_size, ld_input_size),\n",
        "              (x.shape[3], x.shape[2])\n",
        "              )[0]\n",
        "          ).to(device)\n",
        "          x_mask = x - x * mask + mpv * mask\n",
        "          input = torch.cat((x_mask, mask), dim=1)\n",
        "          output = model_cn(input)\n",
        "          completed = get_completion_image(x_mask, output, mask)\n",
        "          imgs = torch.cat((\n",
        "              x.cpu(),\n",
        "              x_mask.cpu(),\n",
        "              completed.cpu()\n",
        "          ), dim=0)\n",
        "          img_path = os.path.join(\n",
        "              result_dir, 'phase_2', 'step%d.jpg' % (pbar.n+1000)\n",
        "          )\n",
        "          save_image(imgs, img_path, nrow=len(x))\n",
        "          model_path = os.path.join(\n",
        "              result_dir, 'phase_2', 'step%d.pth' % (pbar.n+1000)\n",
        "          )\n",
        "          torch.save(model_cd.state_dict(), model_path)\n",
        "        model_cn.train()\n",
        "      if pbar.n >= steps2-1000:\n",
        "        break\n",
        "pbar.close()"
      ],
      "execution_count": null,
      "outputs": [
        {
          "output_type": "stream",
          "name": "stderr",
          "text": [
            "phase 2 | train loss: 0.00004:   0%|          | 31/9000 [00:10<50:17,  2.97it/s]\n",
            "phase 2 | train loss: 0.00000: 100%|██████████| 9000/9000 [23:54<00:00,  6.27it/s]\n"
          ]
        }
      ]
    },
    {
      "cell_type": "code",
      "metadata": {
        "id": "XRscKtWoq25T"
      },
      "source": [
        "before = joblib.load(os.path.join(result_dir, 'phase_2', 'D_loss1000.txt'))"
      ],
      "execution_count": null,
      "outputs": []
    },
    {
      "cell_type": "code",
      "metadata": {
        "id": "OMOgzto3sbeo"
      },
      "source": [
        "total_loss = list(itertools.chain(before, D_loss))"
      ],
      "execution_count": null,
      "outputs": []
    },
    {
      "cell_type": "code",
      "metadata": {
        "colab": {
          "base_uri": "https://localhost:8080/",
          "height": 295
        },
        "id": "D41qdPcr0Xud",
        "outputId": "1392e4a3-14d1-4665-9aa6-430206bb03e2"
      },
      "source": [
        "fig = plt.figure()\n",
        "plt.plot(total_loss)\n",
        "plt.xlabel('Iteration')\n",
        "plt.ylabel('Loss')\n",
        "plt.title('Discriminator')\n",
        "fig.savefig(os.path.join(result_dir, 'phase_2', 'D_loss10000.png'))"
      ],
      "execution_count": null,
      "outputs": [
        {
          "output_type": "display_data",
          "data": {
            "image/png": "[encoded data removed]",
            "text/plain": [
              "<Figure size 432x288 with 1 Axes>"
            ]
          },
          "metadata": {
            "needs_background": "light"
          }
        }
      ]
    },
    {
      "cell_type": "code",
      "metadata": {
        "colab": {
          "base_uri": "https://localhost:8080/"
        },
        "id": "nOTjzXyY45F2",
        "outputId": "a01d679e-1a67-46f1-a0d2-efcbd6785ca3"
      },
      "source": [
        "joblib.dump(total_loss, os.path.join(result_dir, 'phase_2', 'D_loss10000.txt'))"
      ],
      "execution_count": null,
      "outputs": [
        {
          "output_type": "execute_result",
          "data": {
            "text/plain": [
              "['/content/drive/MyDrive/Colab Notebooks/experiment/final/result/phase_2/D_loss10000.txt']"
            ]
          },
          "metadata": {},
          "execution_count": 62
        }
      ]
    },
    {
      "cell_type": "markdown",
      "metadata": {
        "id": "vwvZ7qQksLMq"
      },
      "source": [
        "### Phase3"
      ]
    },
    {
      "cell_type": "code",
      "metadata": {
        "id": "1SuqMc1yDPSx"
      },
      "source": [
        "G_loss2 = []\n",
        "D_loss2 = []"
      ],
      "execution_count": null,
      "outputs": []
    },
    {
      "cell_type": "code",
      "metadata": {
        "id": "-rHENJRxHKR8",
        "colab": {
          "base_uri": "https://localhost:8080/"
        },
        "outputId": "c4b56e1a-b7a2-4ccd-d5a8-243742600745"
      },
      "source": [
        "cnt_bdivs = 0\n",
        "bceloss = BCELoss()\n",
        "pbar =tqdm(total=steps3//10)\n",
        "\n",
        "while pbar.n < steps3//10:\n",
        "  for x in train_loader:\n",
        "    ## forward model_cd\n",
        "    x = x.to(device)\n",
        "    hole_area_fake = define_hole_area(\n",
        "        (ld_input_size, ld_input_size),\n",
        "        (x.shape[3], x.shape[2]))\n",
        "    mask = generate_mask(\n",
        "        shape=(x.shape[0], 1, x.shape[2], x.shape[3]),\n",
        "        hole_size=(\n",
        "            (hole_min_w, hole_max_w),\n",
        "            (hole_min_h, hole_max_h)\n",
        "        ),\n",
        "        hole_area=hole_area_fake[0]\n",
        "    ).to(device)\n",
        "    # fake forward\n",
        "    fake = torch.zeros((len(x), 1)).to(device)\n",
        "    x_mask = x - x * mask + mpv * mask\n",
        "    input_cn = torch.cat((x_mask, mask), dim=1)\n",
        "    output_cn = model_cn(input_cn)\n",
        "    input_gd_fake = output_cn.detach()\n",
        "    input_ld_fake = crop(input_gd_fake, hole_area_fake)\n",
        "    output_fake = model_cd((input_ld_fake, input_gd_fake))\n",
        "    loss_cd_fake = bceloss(output_fake, fake)\n",
        "    # real forward\n",
        "    hole_area_real = define_hole_area(\n",
        "        (ld_input_size, ld_input_size),\n",
        "        (x.shape[3], x.shape[2])\n",
        "    )\n",
        "    real = torch.ones((len(x), 1)).to(device)\n",
        "    input_gd_real = x\n",
        "    input_ld_real = crop(input_gd_real, hole_area_real)\n",
        "    output_real = model_cd((input_ld_real, input_gd_real))\n",
        "    loss_cd_real = bceloss(output_real, real)\n",
        "    ## backward model_cd\n",
        "    loss_cd = (loss_cd_fake + loss_cd_real) * alpha / 2.\n",
        "    D_loss2.append(loss_cd)\n",
        "    loss_cd.backward()\n",
        "    cnt_bdivs += 1\n",
        "    if cnt_bdivs >= bdivs:\n",
        "      # optimize\n",
        "      opt_cd.step()\n",
        "      opt_cd.zero_grad()\n",
        "    ## forward model_cn\n",
        "    loss_cn_1 = mse_loss(x*mask, output_cn*mask)\n",
        "    input_gd_fake = output_cn\n",
        "    input_ld_fake = crop(input_gd_fake, hole_area_fake)\n",
        "    output_fake = model_cd((input_ld_fake, input_gd_fake))\n",
        "    loss_cn_2 = bceloss(output_fake, real)\n",
        "    ## backward model_cn\n",
        "    loss_cn = (loss_cn_1 + alpha * loss_cn_2) / 2.\n",
        "    G_loss2.append(loss_cn)\n",
        "    loss_cn.backward()\n",
        "    if cnt_bdivs >= bdivs:\n",
        "      cnt_bdivs = 0\n",
        "      # optimize\n",
        "      opt_cn.step()\n",
        "      opt_cn.zero_grad()\n",
        "      pbar.set_description(\n",
        "          'phase3 | train loss (cd): %.5f (cn): %5.f' % (\n",
        "              loss_cd.cpu(),\n",
        "              loss_cn.cpu()\n",
        "          )\n",
        "      )\n",
        "      pbar.update()\n",
        "      ## test\n",
        "      if pbar.n % snaperiod3 == 0:\n",
        "        model_cn.eval()\n",
        "        with torch.no_grad():\n",
        "          x = sample_random_batch(\n",
        "              test,\n",
        "              batch_size=num_test_completions\n",
        "          ).to(device)\n",
        "          mask = generate_mask(\n",
        "              shape=(x.shape[0], 1, x.shape[2], x.shape[3]),\n",
        "              hole_size=(\n",
        "                  (hole_min_w, hole_max_w),\n",
        "                  (hole_min_h, hole_max_h)\n",
        "              ),\n",
        "              hole_area=define_hole_area(\n",
        "                  (ld_input_size, ld_input_size),\n",
        "                  (x.shape[3], x.shape[2])\n",
        "              )[0]\n",
        "          ).to(device)\n",
        "          x_mask = x - x * mask + mpv * mask\n",
        "          input = torch.cat((x_mask, mask), dim=1)\n",
        "          output = model_cn(input)\n",
        "          completed = get_completion_image(x_mask, output, mask)\n",
        "          imgs = torch.cat((\n",
        "              x.cpu(),\n",
        "              x_mask.cpu(),\n",
        "              completed.cpu()\n",
        "          ), dim=0)\n",
        "          imgpath = os.path.join(\n",
        "              result_dir, 'phase_3', 'step%d.png' % pbar.n\n",
        "          )\n",
        "          model_cn_path = os.path.join(\n",
        "              result_dir, 'phase_3', 'cn_step%d.pth' % pbar.n\n",
        "          )\n",
        "          model_cd_path = os.path.join(\n",
        "              result_dir, 'phase_3', 'cd_step%d.pth' % pbar.n\n",
        "          )\n",
        "          save_image(imgs, imgpath, nrow=len(x))\n",
        "          torch.save(model_cn.state_dict(), model_cn_path)\n",
        "          torch.save(model_cd.state_dict(), model_cd_path)\n",
        "        model_cn.train()\n",
        "      if pbar.n >= steps3//10:\n",
        "        break;\n",
        "pbar.close()"
      ],
      "execution_count": null,
      "outputs": [
        {
          "output_type": "stream",
          "name": "stderr",
          "text": [
            "phase3 | train loss (cd): 0.00908 (cn):     0:   0%|          | 5/40000 [00:12<28:03:17,  2.53s/it]\n",
            "phase3 | train loss (cd): 0.00030 (cn):     0: 100%|██████████| 40000/40000 [3:09:59<00:00,  3.51it/s]"
          ]
        }
      ]
    },
    {
      "cell_type": "code",
      "metadata": {
        "colab": {
          "base_uri": "https://localhost:8080/",
          "height": 388
        },
        "id": "x4qzlHM8Dg2P",
        "outputId": "529ffa46-318e-4553-d6c5-bb23bf7b5af2"
      },
      "source": [
        "fig = plt.figure(figsize=(12,6))\n",
        "plt.plot(D_loss2, label='Discriminator')\n",
        "plt.plot(G_loss2, label='Generator')\n",
        "plt.xlabel('Iteration')\n",
        "plt.ylabel('D Loss')\n",
        "plt.legend()\n",
        "fig.savefig(os.path.join(result_dir, 'phase_3', 'DG_loss40000.png'))"
      ],
      "execution_count": null,
      "outputs": [
        {
          "output_type": "display_data",
          "data": {
            "image/png": "[encoded data removed]",
            "text/plain": [
              "<Figure size 864x432 with 1 Axes>"
            ]
          },
          "metadata": {
            "needs_background": "light"
          }
        }
      ]
    },
    {
      "cell_type": "code",
      "metadata": {
        "colab": {
          "base_uri": "https://localhost:8080/"
        },
        "id": "3dA-NW8dDnGb",
        "outputId": "907a486c-bcf1-4956-b472-e95c8cddf34e"
      },
      "source": [
        "joblib.dump(D_loss2, os.path.join(result_dir, 'phase_3', 'D_loss40000.txt'))\n",
        "joblib.dump(G_loss2, os.path.join(result_dir, 'phase_3', 'G_loss40000.txt'))"
      ],
      "execution_count": null,
      "outputs": [
        {
          "output_type": "execute_result",
          "data": {
            "text/plain": [
              "['/content/drive/MyDrive/Colab Notebooks/experiment/final/result/phase_3/G_loss40000.txt']"
            ]
          },
          "metadata": {},
          "execution_count": 26
        }
      ]
    }
  ]
}