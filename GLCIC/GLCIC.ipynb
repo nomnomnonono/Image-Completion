{
  "nbformat": 4,
  "nbformat_minor": 0,
  "metadata": {
    "colab": {
      "name": "GLCIC.ipynb",
      "provenance": [],
      "collapsed_sections": [
        "T4lczX-noJji",
        "abqtwZEuOoXs",
        "yyHr26bPrEkk",
        "xLQJmAN3a-yE",
        "s47bRowNckH7",
        "o-gZkZ5thPvF",
        "XCkCQBSnsGNr",
        "ZbS6_aYgsLEn",
        "vwvZ7qQksLMq",
        "Ra5sUaFzsXpU",
        "9D-5ScJw24pB",
        "tPhbkRjwXBxp",
        "CglOCx3eXB9x"
      ],
      "machine_shape": "hm",
      "include_colab_link": true
    },
    "kernelspec": {
      "name": "python3",
      "display_name": "Python 3"
    },
    "language_info": {
      "name": "python"
    },
    "accelerator": "GPU"
  },
  "cells": [
    {
      "cell_type": "markdown",
      "metadata": {
        "id": "view-in-github",
        "colab_type": "text"
      },
      "source": [
        "<a href=\"https://colab.research.google.com/github/nomnomnonono/Image-Completion/blob/main/GLCIC/GLCIC.ipynb\" target=\"_parent\"><img src=\"https://colab.research.google.com/assets/colab-badge.svg\" alt=\"Open In Colab\"/></a>"
      ]
    },
    {
      "cell_type": "code",
      "metadata": {
        "colab": {
          "base_uri": "https://localhost:8080/"
        },
        "id": "EHHyhN5aPHGD",
        "outputId": "cd449e3a-fa3d-4972-c865-fef15bbf975a"
      },
      "source": [
        "!nvidia-smi"
      ],
      "execution_count": 2,
      "outputs": [
        {
          "output_type": "stream",
          "name": "stdout",
          "text": [
            "Sun Jan 16 02:12:32 2022       \n",
            "+-----------------------------------------------------------------------------+\n",
            "| NVIDIA-SMI 495.46       Driver Version: 460.32.03    CUDA Version: 11.2     |\n",
            "|-------------------------------+----------------------+----------------------+\n",
            "| GPU  Name        Persistence-M| Bus-Id        Disp.A | Volatile Uncorr. ECC |\n",
            "| Fan  Temp  Perf  Pwr:Usage/Cap|         Memory-Usage | GPU-Util  Compute M. |\n",
            "|                               |                      |               MIG M. |\n",
            "|===============================+======================+======================|\n",
            "|   0  Tesla P100-PCIE...  Off  | 00000000:00:04.0 Off |                    0 |\n",
            "| N/A   38C    P0    27W / 250W |      0MiB / 16280MiB |      0%      Default |\n",
            "|                               |                      |                  N/A |\n",
            "+-------------------------------+----------------------+----------------------+\n",
            "                                                                               \n",
            "+-----------------------------------------------------------------------------+\n",
            "| Processes:                                                                  |\n",
            "|  GPU   GI   CI        PID   Type   Process name                  GPU Memory |\n",
            "|        ID   ID                                                   Usage      |\n",
            "|=============================================================================|\n",
            "|  No running processes found                                                 |\n",
            "+-----------------------------------------------------------------------------+\n"
          ]
        }
      ]
    },
    {
      "cell_type": "code",
      "metadata": {
        "colab": {
          "base_uri": "https://localhost:8080/"
        },
        "id": "bpJidl3qZNci",
        "outputId": "6da8c2d5-67a8-4816-80a3-ae0de141e96b"
      },
      "source": [
        "from google.colab import drive\n",
        "drive.mount(\"/content/drive\")"
      ],
      "execution_count": 3,
      "outputs": [
        {
          "output_type": "stream",
          "name": "stdout",
          "text": [
            "Mounted at /content/drive\n"
          ]
        }
      ]
    },
    {
      "cell_type": "markdown",
      "metadata": {
        "id": "T4lczX-noJji"
      },
      "source": [
        "## ライブラリの読み込み"
      ]
    },
    {
      "cell_type": "code",
      "metadata": {
        "id": "_8IkHmynoJwK"
      },
      "source": [
        "import sys\n",
        "sys.path.append(\"/content/drive/MyDrive/experiment/final\")"
      ],
      "execution_count": 4,
      "outputs": []
    },
    {
      "cell_type": "code",
      "metadata": {
        "id": "mYl43JZQoJ6v"
      },
      "source": [
        "import torch\n",
        "from torch.nn import BCELoss, DataParallel\n",
        "from torch.nn.functional import mse_loss\n",
        "from torch.optim import Adadelta, Adam\n",
        "from torch.utils.data import DataLoader\n",
        "import torchvision.transforms as transforms\n",
        "from torchvision.utils import save_image\n",
        "\n",
        "from PIL import Image\n",
        "import joblib\n",
        "import json\n",
        "import itertools\n",
        "import os\n",
        "import matplotlib.pyplot as plt\n",
        "import numpy as np\n",
        "from tqdm import tqdm\n",
        "import gc\n",
        "\n",
        "from datasets import ImageDataset\n",
        "from models import CompletionNetwork, ContextDiscriminator\n",
        "from tools import crop, define_hole_area, generate_mask, generate_multiple_mask, generate_circle_mask, get_completion_image, sample_random_batch\n",
        "from sfloss import SpatialFrequencyLoss"
      ],
      "execution_count": 5,
      "outputs": []
    },
    {
      "cell_type": "markdown",
      "metadata": {
        "id": "abqtwZEuOoXs"
      },
      "source": [
        "## 初期設定"
      ]
    },
    {
      "cell_type": "code",
      "metadata": {
        "id": "nDAabPu6OooN"
      },
      "source": [
        "data_dir = \"img_align_celeba\"\n",
        "result_dir = \"/content/drive/MyDrive/experiment/final/result\"\n",
        "recursive_search = False\n",
        "data_parallel = False\n",
        "device = torch.device('cuda')\n",
        "cn_input_size = 120\n",
        "ld_input_size = 72\n",
        "hole_min_w = 36\n",
        "hole_max_w = 72\n",
        "hole_min_h = 36\n",
        "hole_max_h = 72\n",
        "n_holes = 4\n",
        "radius_min = 18\n",
        "radius_max = 36\n",
        "steps1 = 90000\n",
        "steps2 = 10000\n",
        "steps3 = 400000\n",
        "steps4 = 100000\n",
        "steps4_2 = 100000\n",
        "snaperiod1 = 10000\n",
        "snaperiod2 = 1000\n",
        "snaperiod3 = 10000\n",
        "snaperiod4 = 10000\n",
        "snaperiod4_2 = 10000\n",
        "bsize = 16\n",
        "bdivs = 1\n",
        "alpha = 4e-4\n",
        "num_test_completions = 16"
      ],
      "execution_count": 6,
      "outputs": []
    },
    {
      "cell_type": "markdown",
      "metadata": {
        "id": "yyHr26bPrEkk"
      },
      "source": [
        "## 画像の読み込み"
      ]
    },
    {
      "cell_type": "code",
      "metadata": {
        "id": "2eumfF743KHV"
      },
      "source": [
        "!mkdir train test"
      ],
      "execution_count": 7,
      "outputs": []
    },
    {
      "cell_type": "code",
      "metadata": {
        "id": "Y_xz680PZvkK"
      },
      "source": [
        "!cp \"/content/drive/MyDrive/experiment/final/img_align_celeba.zip\" \".\"\n",
        "!unzip -q img_align_celeba.zip\n",
        "!mv img_align_celeba/2* test/"
      ],
      "execution_count": 8,
      "outputs": []
    },
    {
      "cell_type": "code",
      "metadata": {
        "colab": {
          "base_uri": "https://localhost:8080/"
        },
        "id": "wOlOw2zxbNHE",
        "outputId": "715fbd87-16c8-4e1f-e9a7-e2d1c4e6d3ea"
      },
      "source": [
        "# Number of Images\n",
        "!ls \"img_align_celeba\" -1 | wc -l\n",
        "!ls \"test\" -1 | wc -l"
      ],
      "execution_count": 9,
      "outputs": [
        {
          "output_type": "stream",
          "name": "stdout",
          "text": [
            "199999\n",
            "2600\n"
          ]
        }
      ]
    },
    {
      "cell_type": "code",
      "metadata": {
        "id": "P7cAbrpVFBqZ"
      },
      "source": [
        "if not os.path.exists(result_dir):\n",
        "        os.makedirs(result_dir)\n",
        "for phase in ['phase_1', 'phase_2', 'phase_3']:\n",
        "    if not os.path.exists(os.path.join(result_dir, phase)):\n",
        "        os.makedirs(os.path.join(result_dir, phase))"
      ],
      "execution_count": 10,
      "outputs": []
    },
    {
      "cell_type": "markdown",
      "metadata": {
        "id": "xLQJmAN3a-yE"
      },
      "source": [
        "## データセット"
      ]
    },
    {
      "cell_type": "code",
      "metadata": {
        "id": "M6jVSFIPKCq1"
      },
      "source": [
        "transform = transforms.Compose([\n",
        "        transforms.Resize(cn_input_size),\n",
        "        transforms.RandomCrop((cn_input_size, cn_input_size)),\n",
        "        transforms.ToTensor(),\n",
        "])\n",
        "\n",
        "train = ImageDataset('img_align_celeba', transform, recursive_search=recursive_search)\n",
        "train_loader = DataLoader(train, batch_size=bsize//bdivs, shuffle=True)\n",
        "test = ImageDataset('test', transform, recursive_search=recursive_search)"
      ],
      "execution_count": 11,
      "outputs": []
    },
    {
      "cell_type": "markdown",
      "metadata": {
        "id": "s47bRowNckH7"
      },
      "source": [
        "## mpvの計算・読み込み"
      ]
    },
    {
      "cell_type": "code",
      "metadata": {
        "colab": {
          "base_uri": "https://localhost:8080/"
        },
        "id": "ZM_QgzXIcmm6",
        "outputId": "50f7c05c-0f78-4800-9386-33c921f081a6"
      },
      "source": [
        "mpv = np.zeros(shape=(3,))\n",
        "pbar = tqdm(total=len(train.imgpaths),\n",
        "            desc='computing mean pixel value')\n",
        "for img_path in train.imgpaths:\n",
        "  img = Image.open(img_path)\n",
        "  x = np.array(img).astype('float32') / 255.\n",
        "  mpv += x.mean(axis=(0, 1))\n",
        "  pbar.update()\n",
        "mpv /= len(train.imgpaths)\n",
        "pbar.close"
      ],
      "execution_count": null,
      "outputs": [
        {
          "output_type": "stream",
          "name": "stderr",
          "text": [
            "computing mean pixel value: 100%|█████████▉| 199950/199999 [06:26<00:00, 525.50it/s]"
          ]
        },
        {
          "output_type": "execute_result",
          "data": {
            "text/plain": [
              "<bound method tqdm.close of <tqdm.std.tqdm object at 0x7fda5bfef3d0>>"
            ]
          },
          "metadata": {},
          "execution_count": 10
        }
      ]
    },
    {
      "cell_type": "code",
      "metadata": {
        "id": "QLHeRhdU0ZfE"
      },
      "source": [
        "mpv_json = open(os.path.join(result_dir, 'config.json'), 'r')\n",
        "mpv_data = json.load(mpv_json)\n",
        "mpv = mpv_data['mpv']\n",
        "mpv = np.array(mpv)"
      ],
      "execution_count": 12,
      "outputs": []
    },
    {
      "cell_type": "code",
      "metadata": {
        "id": "GgeoWRgcgvZ0"
      },
      "source": [
        "mpv = torch.tensor(mpv.reshape(1, 3, 1, 1), dtype=torch.float32).to(device)\n",
        "alpha = torch.tensor(alpha, dtype=torch.float32).to(device)"
      ],
      "execution_count": 13,
      "outputs": []
    },
    {
      "cell_type": "markdown",
      "metadata": {
        "id": "o-gZkZ5thPvF"
      },
      "source": [
        "## Training with MSE"
      ]
    },
    {
      "cell_type": "markdown",
      "metadata": {
        "id": "XCkCQBSnsGNr"
      },
      "source": [
        "### Phase 1\n",
        "pre-train Generator  4h"
      ]
    },
    {
      "cell_type": "code",
      "metadata": {
        "id": "3UefQX0WdvyH"
      },
      "source": [
        "model_cn = CompletionNetwork()\n",
        "model_cn = model_cn.to(device)\n",
        "opt_cn = Adadelta(model_cn.parameters())\n",
        "G_loss = []"
      ],
      "execution_count": null,
      "outputs": []
    },
    {
      "cell_type": "code",
      "metadata": {
        "id": "Y3uccmTYr5Gs",
        "colab": {
          "base_uri": "https://localhost:8080/"
        },
        "outputId": "b2a94426-7717-4e02-d796-8265556219cb"
      },
      "source": [
        "cnt_bdivs = 0\n",
        "pbar = tqdm(total=steps1)\n",
        "\n",
        "while pbar.n < steps1:\n",
        "  for x in train_loader:\n",
        "    # forward\n",
        "    x = x.to(device)\n",
        "    mask = generate_multiple_mask(\n",
        "        shape=(x.shape[0], 1, x.shape[2], x.shape[3]),\n",
        "        hole_size=((hole_min_w, hole_max_w),\n",
        "                   (hole_min_h, hole_max_h)),\n",
        "        hole_area=define_hole_area(\n",
        "            (ld_input_size, ld_input_size),\n",
        "            (x.shape[3], x.shape[2])\n",
        "        )[0],\n",
        "        n_holes=1\n",
        "    ).to(device)\n",
        "    x_mask = x - x * mask + mpv * mask\n",
        "    input = torch.cat((x_mask, mask), dim=1)\n",
        "    output = model_cn(input)\n",
        "    loss = mse_loss(x*mask, output*mask)\n",
        "    G_loss.append(loss)\n",
        "\n",
        "    # backward\n",
        "    loss.backward()\n",
        "    cnt_bdivs += 1\n",
        "    if cnt_bdivs >= bdivs:\n",
        "      cnt_bdivs = 0\n",
        "      opt_cn.step()\n",
        "      opt_cn.zero_grad()\n",
        "      pbar.set_description('phase 1 | train loss: %.5f' % loss.cpu())\n",
        "      pbar.update()\n",
        "\n",
        "      # test\n",
        "      if pbar.n % snaperiod1 == 0:\n",
        "        model_cn.eval()\n",
        "        with torch.no_grad():\n",
        "          x = sample_random_batch(\n",
        "              test,\n",
        "              batch_size=num_test_completions\n",
        "          ).to(device)\n",
        "          mask = generate_multiple_mask(\n",
        "              shape=(x.shape[0], 1, x.shape[2], x.shape[3]),\n",
        "              hole_size=((hole_min_w, hole_max_w),\n",
        "                         (hole_min_h, hole_max_h)),\n",
        "              hole_area=define_hole_area(\n",
        "              (ld_input_size, ld_input_size),\n",
        "              (x.shape[3], x.shape[2])\n",
        "              )[0],\n",
        "              n_holes=1\n",
        "          ).to(device)\n",
        "          x_mask = x - x * mask + mpv * mask\n",
        "          input = torch.cat((x_mask, mask), dim=1)\n",
        "          output = model_cn(input)\n",
        "          completed = get_completion_image(x, output, mask)\n",
        "          # 結果とモデルの保存\n",
        "          imgs = torch.cat((\n",
        "              x.cpu(),\n",
        "              x_mask.cpu(),\n",
        "              completed.cpu()\n",
        "          ), dim=0)\n",
        "          img_path = os.path.join(\n",
        "              result_dir, 'phase_1', 'step%d.jpg' % (pbar.n)\n",
        "          )\n",
        "          save_image(imgs, img_path, nrow=len(x))\n",
        "          model_cn_path = os.path.join(\n",
        "              result_dir, 'phase_1', 'step%d.pth' % (pbar.n)\n",
        "          )\n",
        "          torch.save(\n",
        "              model_cn.state_dict(),\n",
        "              model_cn_path\n",
        "          )\n",
        "        model_cn.train()\n",
        "      if pbar.n >= steps1:\n",
        "        break\n",
        "    break\n",
        "pbar.close()"
      ],
      "execution_count": null,
      "outputs": [
        {
          "output_type": "stream",
          "name": "stderr",
          "text": [
            "phase 1 | train loss: 0.01534:   0%|          | 7/90000 [00:10<38:49:39,  1.55s/it]\n",
            "phase 1 | train loss: 0.00270: 100%|██████████| 90000/90000 [4:21:38<00:00,  5.73it/s]\n"
          ]
        }
      ]
    },
    {
      "cell_type": "code",
      "metadata": {
        "colab": {
          "base_uri": "https://localhost:8080/"
        },
        "id": "xkUl71LTqIyN",
        "outputId": "b2f1ca99-1313-478d-a69d-5893e939ae39"
      },
      "source": [
        "fig = plt.figure(figsize=(12,6))\n",
        "plt.plot(G_loss)\n",
        "plt.xlabel('Iteration', fontsize=14)\n",
        "plt.ylabel('Loss', fontsize=14)\n",
        "fig.savefig(os.path.join(result_dir, 'phase_1', 'G_loss90000.png'))"
      ],
      "execution_count": null,
      "outputs": [
        {
          "output_type": "display_data",
          "data": {
            "image/png": "[encoded data removed]",
            "text/plain": [
              "<Figure size 864x432 with 1 Axes>"
            ]
          },
          "metadata": {
            "needs_background": "light"
          }
        }
      ]
    },
    {
      "cell_type": "code",
      "metadata": {
        "colab": {
          "base_uri": "https://localhost:8080/"
        },
        "id": "9J-pA_kwFFJ_",
        "outputId": "9660f478-11b8-468a-9df0-a5a279fe67b0"
      },
      "source": [
        "joblib.dump(G_loss, os.path.join(result_dir, 'phase_1', 'G_loss90000.txt'))"
      ],
      "execution_count": null,
      "outputs": [
        {
          "output_type": "execute_result",
          "data": {
            "text/plain": [
              "['/content/drive/MyDrive/experiment/final/result/phase_1/G_loss90000.txt']"
            ]
          },
          "metadata": {},
          "execution_count": 27
        }
      ]
    },
    {
      "cell_type": "markdown",
      "metadata": {
        "id": "ZbS6_aYgsLEn"
      },
      "source": [
        "### Phase2\n",
        "pre-train Discriminator  0.5h"
      ]
    },
    {
      "cell_type": "code",
      "metadata": {
        "id": "nvPapGIYjuoK"
      },
      "source": [
        "model_cd = ContextDiscriminator(\n",
        "    local_input_shape=(3, ld_input_size, ld_input_size),\n",
        "    global_input_shape=(3, cn_input_size, cn_input_size)\n",
        ")\n",
        "model_cd = model_cd.to(device)\n",
        "opt_cd = Adadelta(model_cd.parameters())\n",
        "loss_cd = BCELoss()\n",
        "D_loss = []"
      ],
      "execution_count": null,
      "outputs": []
    },
    {
      "cell_type": "code",
      "metadata": {
        "id": "pzbU-n0Fl8X2",
        "colab": {
          "base_uri": "https://localhost:8080/"
        },
        "outputId": "f54bc8c4-4c9f-4d25-9f1c-95a4e5653019"
      },
      "source": [
        "cnt_bdivs = 0\n",
        "pbar = tqdm(total=steps2)\n",
        "while pbar.n < steps2:\n",
        "  for x in train_loader:\n",
        "    x = x.to(device)\n",
        "    # fake forward\n",
        "    hole_area_fake = define_hole_area(\n",
        "        (ld_input_size, ld_input_size),\n",
        "        (x.shape[3], x.shape[2])\n",
        "    )\n",
        "    mask = generate_mask(\n",
        "        shape=(\n",
        "            x.shape[0], 1, x.shape[2], x.shape[3]\n",
        "        ),\n",
        "        hole_size=(\n",
        "            (hole_min_w, hole_max_w), (hole_min_h, hole_max_h)\n",
        "        ),\n",
        "        hole_area=hole_area_fake[0]\n",
        "    ).to(device)\n",
        "    fake = torch.zeros((len(x), 1)).to(device)\n",
        "    x_mask = x - x * mask + mpv * mask\n",
        "    input_cn = torch.cat((x_mask, mask), dim=1)\n",
        "    output_cn = model_cn(input_cn)\n",
        "    input_gd_fake = output_cn.detach()\n",
        "    input_ld_fake = crop(input_gd_fake, hole_area_fake)\n",
        "    output_fake = model_cd((\n",
        "        input_ld_fake.to(device),\n",
        "        input_gd_fake.to(device)))\n",
        "    loss_fake = loss_cd(output_fake, fake)\n",
        "    # real forward\n",
        "    hole_area_real = define_hole_area(\n",
        "        (ld_input_size, ld_input_size),\n",
        "        (x.shape[3], x.shape[2])\n",
        "    )\n",
        "    real = torch.ones((len(x), 1)).to(device)\n",
        "    input_gd_real = x\n",
        "    input_ld_real = crop(input_gd_real, hole_area_real)\n",
        "    output_real = model_cd((input_ld_real, input_gd_real))\n",
        "    loss_real = loss_cd(output_real, real)\n",
        "\n",
        "    loss = (loss_fake + loss_real) / 2\n",
        "    D_loss.append(loss)\n",
        "\n",
        "    # backward\n",
        "    loss.backward()\n",
        "    cnt_bdivs += 1\n",
        "    if cnt_bdivs >= bdivs:\n",
        "      cnt_bdivs = 0\n",
        "      opt_cd.step()\n",
        "      opt_cd.zero_grad()\n",
        "      pbar.set_description('phase 2 | train loss: %.5f' % loss.cpu())\n",
        "      pbar.update()\n",
        "\n",
        "      # test\n",
        "      if pbar.n % snaperiod2 == 0:\n",
        "        model_cn.eval()\n",
        "        with torch.no_grad():\n",
        "          x = sample_random_batch(test, batch_size=num_test_completions).to(device)\n",
        "          mask = generate_mask(\n",
        "              shape=(x.shape[0], 1, x.shape[2], x.shape[3]),\n",
        "              hole_size=((hole_min_w, hole_max_w),\n",
        "                         (hole_min_h, hole_max_h)),\n",
        "              hole_area=define_hole_area(\n",
        "              (ld_input_size, ld_input_size),\n",
        "              (x.shape[3], x.shape[2])\n",
        "              )[0]\n",
        "          ).to(device)\n",
        "          x_mask = x - x * mask + mpv * mask\n",
        "          input = torch.cat((x_mask, mask), dim=1)\n",
        "          output = model_cn(input)\n",
        "          completed = get_completion_image(x, output, mask)\n",
        "          imgs = torch.cat((\n",
        "              x.cpu(),\n",
        "              x_mask.cpu(),\n",
        "              completed.cpu()\n",
        "          ), dim=0)\n",
        "          img_path = os.path.join(\n",
        "              result_dir, 'phase_2', 'step%d.jpg' % (pbar.n)\n",
        "          )\n",
        "          save_image(imgs, img_path, nrow=len(x))\n",
        "          model_path = os.path.join(\n",
        "              result_dir, 'phase_2', 'step%d.pth' % (pbar.n)\n",
        "          )\n",
        "          torch.save(model_cd.state_dict(), model_path)\n",
        "        model_cn.train()\n",
        "      if pbar.n >= steps2:\n",
        "        break\n",
        "pbar.close()"
      ],
      "execution_count": null,
      "outputs": [
        {
          "output_type": "stream",
          "name": "stderr",
          "text": [
            "phase 2 | train loss: 0.00000: 100%|██████████| 10000/10000 [24:39<00:00,  6.76it/s]\n"
          ]
        }
      ]
    },
    {
      "cell_type": "code",
      "metadata": {
        "colab": {
          "base_uri": "https://localhost:8080/"
        },
        "id": "D41qdPcr0Xud",
        "outputId": "3f445689-9c98-4f9c-8ad0-108f9b08bdf3"
      },
      "source": [
        "fig = plt.figure(figsize=(12, 6))\n",
        "plt.plot(D_loss)\n",
        "plt.xlabel('Iteration', fontsize=14)\n",
        "plt.ylabel('Loss', fontsize=14)\n",
        "fig.savefig(os.path.join(result_dir, 'phase_2', 'D_loss10000.png'))"
      ],
      "execution_count": null,
      "outputs": [
        {
          "output_type": "display_data",
          "data": {
            "image/png": "[encoded data removed]",
            "text/plain": [
              "<Figure size 864x432 with 1 Axes>"
            ]
          },
          "metadata": {
            "needs_background": "light"
          }
        }
      ]
    },
    {
      "cell_type": "code",
      "metadata": {
        "colab": {
          "base_uri": "https://localhost:8080/"
        },
        "id": "nOTjzXyY45F2",
        "outputId": "06d81941-b4d2-4978-94aa-4c09b73a918e"
      },
      "source": [
        "joblib.dump(D_loss, os.path.join(result_dir, 'phase_2', 'D_loss10000.txt'))"
      ],
      "execution_count": null,
      "outputs": [
        {
          "output_type": "execute_result",
          "data": {
            "text/plain": [
              "['/content/drive/MyDrive/experiment/final/result/phase_2/D_loss10000.txt']"
            ]
          },
          "metadata": {},
          "execution_count": 35
        }
      ]
    },
    {
      "cell_type": "markdown",
      "metadata": {
        "id": "vwvZ7qQksLMq"
      },
      "source": [
        "### Phase3\n",
        "train Generator & Discriminator"
      ]
    },
    {
      "cell_type": "code",
      "source": [
        "path_model_cn = os.path.join(result_dir, 'phase_3', 'cn_step290000.pth')\n",
        "path_model_cd = os.path.join(result_dir, 'phase_3', 'cd_step290000.pth')"
      ],
      "metadata": {
        "id": "rPkg_4VTMnuu"
      },
      "execution_count": null,
      "outputs": []
    },
    {
      "cell_type": "code",
      "metadata": {
        "id": "1SuqMc1yDPSx"
      },
      "source": [
        "model_cn = CompletionNetwork()\n",
        "model_cn.load_state_dict(torch.load(path_model_cn, map_location='cpu'))\n",
        "model_cn = model_cn.to(device)\n",
        "opt_cn = Adadelta(model_cn.parameters())\n",
        "G_loss3 = []\n",
        "\n",
        "model_cd = ContextDiscriminator(\n",
        "    local_input_shape=(3, ld_input_size, ld_input_size),\n",
        "    global_input_shape=(3, cn_input_size, cn_input_size)\n",
        ")\n",
        "model_cd.load_state_dict(torch.load(path_model_cd, map_location='cpu'))\n",
        "model_cd = model_cd.to(device)\n",
        "opt_cd = Adadelta(model_cd.parameters())\n",
        "loss_cd = BCELoss()\n",
        "D_loss3 = []"
      ],
      "execution_count": null,
      "outputs": []
    },
    {
      "cell_type": "code",
      "metadata": {
        "id": "-rHENJRxHKR8"
      },
      "source": [
        "cnt_bdivs = 0\n",
        "bceloss = BCELoss()\n",
        "pbar =tqdm(total=steps3)\n",
        "\n",
        "while pbar.n < steps3:\n",
        "  for x in train_loader:\n",
        "    ## forward model_cd\n",
        "    x = x.to(device)\n",
        "    hole_area_fake = define_hole_area(\n",
        "        (ld_input_size, ld_input_size),\n",
        "        (x.shape[3], x.shape[2]))\n",
        "    mask = generate_multiple_mask(\n",
        "        shape=(x.shape[0], 1, x.shape[2], x.shape[3]),\n",
        "        hole_size=(\n",
        "            (hole_min_w, hole_max_w),\n",
        "            (hole_min_h, hole_max_h)\n",
        "        ),\n",
        "        hole_area=hole_area_fake[0],\n",
        "        n_holes=1\n",
        "    ).to(device)\n",
        "    # fake forward\n",
        "    fake = torch.zeros((len(x), 1)).to(device)\n",
        "    x_mask = x - x * mask + mpv * mask\n",
        "    input_cn = torch.cat((x_mask, mask), dim=1)\n",
        "    output_cn = model_cn(input_cn)\n",
        "    input_gd_fake = output_cn.detach()\n",
        "    input_ld_fake = crop(input_gd_fake, hole_area_fake)\n",
        "    output_fake = model_cd((input_ld_fake, input_gd_fake))\n",
        "    loss_cd_fake = bceloss(output_fake, fake)\n",
        "    # real forward\n",
        "    hole_area_real = define_hole_area(\n",
        "        (ld_input_size, ld_input_size),\n",
        "        (x.shape[3], x.shape[2])\n",
        "    )\n",
        "    real = torch.ones((len(x), 1)).to(device)\n",
        "    input_gd_real = x\n",
        "    input_ld_real = crop(input_gd_real, hole_area_real)\n",
        "    output_real = model_cd((input_ld_real, input_gd_real))\n",
        "    loss_cd_real = bceloss(output_real, real)\n",
        "    ## backward model_cd\n",
        "    loss_cd = (loss_cd_fake + loss_cd_real) * alpha / 2.\n",
        "    D_loss3.append(loss_cd)\n",
        "    loss_cd.backward()\n",
        "    cnt_bdivs += 1\n",
        "    if cnt_bdivs >= bdivs:\n",
        "      # optimize\n",
        "      opt_cd.step()\n",
        "      opt_cd.zero_grad()\n",
        "    ## forward model_cn\n",
        "    loss_cn_1 = mse_loss(x*mask, output_cn*mask)\n",
        "    input_gd_fake = output_cn\n",
        "    input_ld_fake = crop(input_gd_fake, hole_area_fake)\n",
        "    output_fake = model_cd((input_ld_fake, input_gd_fake))\n",
        "    loss_cn_2 = bceloss(output_fake, real)\n",
        "    ## backward model_cn\n",
        "    loss_cn = (loss_cn_1 + alpha * loss_cn_2) / 2.\n",
        "    G_loss3.append(loss_cn)\n",
        "    loss_cn.backward()\n",
        "    if cnt_bdivs >= bdivs:\n",
        "      cnt_bdivs = 0\n",
        "      # optimize\n",
        "      opt_cn.step()\n",
        "      opt_cn.zero_grad()\n",
        "      pbar.set_description(\n",
        "          'phase3 | train loss (cd): %.5f (cn): %5.f' % (\n",
        "              loss_cd.cpu(),\n",
        "              loss_cn.cpu()\n",
        "          )\n",
        "      )\n",
        "      pbar.update()\n",
        "      ## test\n",
        "      if pbar.n % snaperiod3 == 0:\n",
        "        model_cn.eval()\n",
        "        with torch.no_grad():\n",
        "          x = sample_random_batch(\n",
        "              test,\n",
        "              batch_size=num_test_completions\n",
        "          ).to(device)\n",
        "          mask = generate_multiple_mask(\n",
        "              shape=(x.shape[0], 1, x.shape[2], x.shape[3]),\n",
        "              hole_size=(\n",
        "                  (hole_min_w, hole_max_w),\n",
        "                  (hole_min_h, hole_max_h)\n",
        "              ),\n",
        "              hole_area=define_hole_area(\n",
        "                  (ld_input_size, ld_input_size),\n",
        "                  (x.shape[3], x.shape[2])\n",
        "              )[0],\n",
        "              n_holes=1\n",
        "          ).to(device)\n",
        "          x_mask = x - x * mask + mpv * mask\n",
        "          input = torch.cat((x_mask, mask), dim=1)\n",
        "          output = model_cn(input)\n",
        "          completed = get_completion_image(x, output, mask)\n",
        "          imgs = torch.cat((\n",
        "              x.cpu(),\n",
        "              x_mask.cpu(),\n",
        "              completed.cpu()\n",
        "          ), dim=0)\n",
        "          imgpath = os.path.join(\n",
        "              result_dir, 'phase_3', 'step%d.png' % (pbar.n)\n",
        "          )\n",
        "          model_cn_path = os.path.join(\n",
        "              result_dir, 'phase_3', 'cn_step%d.pth' % (pbar.n)\n",
        "          )\n",
        "          model_cd_path = os.path.join(\n",
        "              result_dir, 'phase_3', 'cd_step%d.pth' % (pbar.n)\n",
        "          )\n",
        "          save_image(imgs, imgpath, nrow=len(x))\n",
        "          torch.save(model_cn.state_dict(), model_cn_path)\n",
        "          torch.save(model_cd.state_dict(), model_cd_path)\n",
        "          joblib.dump(D_loss3, os.path.join(result_dir, 'phase_3', 'D_loss%d.txt' % (pbar.n)))\n",
        "          joblib.dump(G_loss3, os.path.join(result_dir, 'phase_3', 'G_loss%d.txt' % (pbar.n)))\n",
        "          del D_loss3, G_loss3\n",
        "          gc.collect()\n",
        "          D_loss3 = []\n",
        "          G_loss3 = []\n",
        "        model_cn.train()\n",
        "      if pbar.n >= steps3:\n",
        "        break;\n",
        "pbar.close()"
      ],
      "execution_count": null,
      "outputs": []
    },
    {
      "cell_type": "code",
      "metadata": {
        "colab": {
          "base_uri": "https://localhost:8080/",
          "height": 393
        },
        "id": "x4qzlHM8Dg2P",
        "outputId": "74279b51-15c7-4c49-9f0b-f0be3fca267e"
      },
      "source": [
        "fig = plt.figure(figsize=(18,6))\n",
        "plt.plot(G_loss3, label='Generator', color=\"#ff7f00\")\n",
        "plt.plot(D_loss3, label='Discriminator', color=\"#377eb8\")\n",
        "plt.xlabel('Iteration', fontsize=16)\n",
        "plt.ylabel('Loss', fontsize=16)\n",
        "plt.legend(fontsize=15)\n",
        "fig.savefig(os.path.join(result_dir, 'phase_3', 'DG_loss500000.png'))"
      ],
      "execution_count": null,
      "outputs": [
        {
          "output_type": "display_data",
          "data": {
            "image/png": "[encoded data removed]",
            "text/plain": [
              "<Figure size 1296x432 with 1 Axes>"
            ]
          },
          "metadata": {
            "needs_background": "light"
          }
        }
      ]
    },
    {
      "cell_type": "markdown",
      "source": [
        "### Phase4\n",
        "train Generator & Discriminator with multiple holes"
      ],
      "metadata": {
        "id": "Ra5sUaFzsXpU"
      }
    },
    {
      "cell_type": "code",
      "source": [
        "if not os.path.exists(os.path.join(result_dir, 'phase_4')):\n",
        "  os.makedirs(os.path.join(result_dir, 'phase_4'))"
      ],
      "metadata": {
        "id": "FWv6xULEsciX"
      },
      "execution_count": null,
      "outputs": []
    },
    {
      "cell_type": "code",
      "source": [
        "model_cn = CompletionNetwork()\n",
        "model_cn.load_state_dict(torch.load(os.path.join(result_dir, 'phase_4', 'cn_step50000.pth'), map_location='cpu'))\n",
        "model_cn = model_cn.to(device)\n",
        "opt_cn = Adadelta(model_cn.parameters())\n",
        "G_loss4 = []\n",
        "model_cd = ContextDiscriminator(\n",
        "    local_input_shape=(3, ld_input_size, ld_input_size),\n",
        "    global_input_shape=(3, cn_input_size, cn_input_size)\n",
        ")\n",
        "model_cd.load_state_dict(torch.load(os.path.join(result_dir, 'phase_4', 'cd_step50000.pth'), map_location='cpu'))\n",
        "model_cd = model_cd.to(device)\n",
        "opt_cd = Adadelta(model_cd.parameters())\n",
        "loss_cd = BCELoss()\n",
        "D_loss4 = []"
      ],
      "metadata": {
        "id": "6lBXYegEszX5"
      },
      "execution_count": null,
      "outputs": []
    },
    {
      "cell_type": "code",
      "source": [
        "cnt_bdivs = 0\n",
        "bceloss = BCELoss()\n",
        "pbar =tqdm(total=steps4//2)\n",
        "\n",
        "while pbar.n < steps4//2:\n",
        "  for x in train_loader:\n",
        "    ## forward model_cd\n",
        "    x = x.to(device)\n",
        "    hole_area_fake = define_hole_area(\n",
        "        (ld_input_size, ld_input_size),\n",
        "        (x.shape[3], x.shape[2])\n",
        "    )\n",
        "    mask = generate_multiple_mask(\n",
        "        shape=(x.shape[0], 1, x.shape[2], x.shape[3]),\n",
        "        hole_size=(\n",
        "            (hole_min_w, hole_max_w),\n",
        "            (hole_min_h, hole_max_h)\n",
        "        ),\n",
        "        hole_area=hole_area_fake[0],\n",
        "        n_holes=4\n",
        "    ).to(device)\n",
        "    # fake forward\n",
        "    fake = torch.zeros((len(x), 1)).to(device)\n",
        "    x_mask = x - x * mask + mpv * mask\n",
        "    input_cn = torch.cat((x_mask, mask), dim=1)\n",
        "    output_cn = model_cn(input_cn)\n",
        "    input_gd_fake = output_cn.detach()\n",
        "    input_ld_fake = crop(input_gd_fake, hole_area_fake)\n",
        "    output_fake = model_cd((input_ld_fake, input_gd_fake))\n",
        "    loss_cd_fake = bceloss(output_fake, fake)\n",
        "    # real forward\n",
        "    hole_area_real = define_hole_area(\n",
        "        (ld_input_size, ld_input_size),\n",
        "        (x.shape[3], x.shape[2])\n",
        "    )\n",
        "    real = torch.ones((len(x), 1)).to(device)\n",
        "    input_gd_real = x\n",
        "    input_ld_real = crop(input_gd_real, hole_area_real)\n",
        "    output_real = model_cd((input_ld_real, input_gd_real))\n",
        "    loss_cd_real = bceloss(output_real, real)\n",
        "    ## backward model_cd\n",
        "    loss_cd = (loss_cd_fake + loss_cd_real) * alpha / 2.\n",
        "    D_loss4.append(loss_cd)\n",
        "    loss_cd.backward()\n",
        "    cnt_bdivs += 1\n",
        "    if cnt_bdivs >= bdivs:\n",
        "      # optimize\n",
        "      opt_cd.step()\n",
        "      opt_cd.zero_grad()\n",
        "    ## forward model_cn\n",
        "    loss_cn_1 = mse_loss(x*mask, output_cn*mask)\n",
        "    input_gd_fake = output_cn\n",
        "    input_ld_fake = crop(input_gd_fake, hole_area_fake)\n",
        "    output_fake = model_cd((input_ld_fake, input_gd_fake))\n",
        "    loss_cn_2 = bceloss(output_fake, real)\n",
        "    ## backward model_cn\n",
        "    loss_cn = (loss_cn_1 + alpha * loss_cn_2) / 2.\n",
        "    G_loss4.append(loss_cn)\n",
        "    loss_cn.backward()\n",
        "    if cnt_bdivs >= bdivs:\n",
        "      cnt_bdivs = 0\n",
        "      # optimize\n",
        "      opt_cn.step()\n",
        "      opt_cn.zero_grad()\n",
        "      pbar.set_description(\n",
        "          'phase4 | train loss (cd): %.5f (cn): %5.f' % (\n",
        "              loss_cd.cpu(),\n",
        "              loss_cn.cpu()\n",
        "          )\n",
        "      )\n",
        "      pbar.update()\n",
        "      ## test\n",
        "      if pbar.n % snaperiod4 == 0:\n",
        "        model_cn.eval()\n",
        "        with torch.no_grad():\n",
        "          x = sample_random_batch(\n",
        "              test,\n",
        "              batch_size=num_test_completions\n",
        "          ).to(device)\n",
        "          mask = generate_multiple_mask(\n",
        "              shape=(x.shape[0], 1, x.shape[2], x.shape[3]),\n",
        "              hole_size=(\n",
        "                  (hole_min_w, hole_max_w),\n",
        "                  (hole_min_h, hole_max_h)\n",
        "              ),\n",
        "              hole_area=define_hole_area(\n",
        "                  (ld_input_size, ld_input_size),\n",
        "                  (x.shape[3], x.shape[2])\n",
        "              )[0],\n",
        "              n_holes=n_holes\n",
        "          ).to(device)\n",
        "          x_mask = x - x * mask + mpv * mask\n",
        "          input = torch.cat((x_mask, mask), dim=1)\n",
        "          output = model_cn(input)\n",
        "          completed = get_completion_image(x, output, mask)\n",
        "          imgs = torch.cat((\n",
        "              x.cpu(),\n",
        "              x_mask.cpu(),\n",
        "              completed.cpu()\n",
        "          ), dim=0)\n",
        "          imgpath = os.path.join(\n",
        "              result_dir, 'phase_4', 'step%d.png' % (pbar.n+50000)\n",
        "          )\n",
        "          model_cn_path = os.path.join(\n",
        "              result_dir, 'phase_4', 'cn_step%d.pth' % (pbar.n+50000)\n",
        "          )\n",
        "          model_cd_path = os.path.join(\n",
        "              result_dir, 'phase_4', 'cd_step%d.pth' % (pbar.n+50000)\n",
        "          )\n",
        "          save_image(imgs, imgpath, nrow=len(x))\n",
        "          torch.save(model_cn.state_dict(), model_cn_path)\n",
        "          torch.save(model_cd.state_dict(), model_cd_path)\n",
        "        model_cn.train()\n",
        "      if pbar.n >= steps4//2:\n",
        "        break;\n",
        "pbar.close()"
      ],
      "metadata": {
        "id": "0KAqlyDGuEP_"
      },
      "execution_count": null,
      "outputs": []
    },
    {
      "cell_type": "code",
      "source": [
        "fig = plt.figure(figsize=(18,6))\n",
        "plt.plot(G_loss4, label='Generator', color=\"#ff7f00\")\n",
        "plt.plot(D_loss4, label='Discriminator', color=\"#377eb8\")\n",
        "plt.xlabel('Iteration', fontsize=16)\n",
        "plt.ylabel('Loss', fontsize=16)\n",
        "plt.legend(fontsize=15)\n",
        "fig.savefig(os.path.join(result_dir, 'phase_4', 'DG_loss100000.png'))"
      ],
      "metadata": {
        "colab": {
          "base_uri": "https://localhost:8080/",
          "height": 393
        },
        "id": "aIUb4X8AuQU9",
        "outputId": "5c5ace09-c097-476d-ed7d-9d3953c2ec5f"
      },
      "execution_count": null,
      "outputs": [
        {
          "output_type": "display_data",
          "data": {
            "image/png": "[encoded data removed]",
            "text/plain": [
              "<Figure size 1296x432 with 1 Axes>"
            ]
          },
          "metadata": {
            "needs_background": "light"
          }
        }
      ]
    },
    {
      "cell_type": "code",
      "source": [
        "joblib.dump(D_loss4, os.path.join(result_dir, 'phase_4', 'D_loss100000.txt'))\n",
        "joblib.dump(G_loss4, os.path.join(result_dir, 'phase_4', 'G_loss100000.txt'))"
      ],
      "metadata": {
        "id": "I7a8vS6BuTTZ",
        "colab": {
          "base_uri": "https://localhost:8080/"
        },
        "outputId": "5951f4bc-4308-4b41-d989-bec8f4dc8ad2"
      },
      "execution_count": null,
      "outputs": [
        {
          "output_type": "execute_result",
          "data": {
            "text/plain": [
              "['/content/drive/MyDrive/experiment/final/result/phase_4/G_loss100000.txt']"
            ]
          },
          "metadata": {},
          "execution_count": 23
        }
      ]
    },
    {
      "cell_type": "markdown",
      "source": [
        "### Phase4-2\n",
        "train Generator & Discriminator with multiple circle holes"
      ],
      "metadata": {
        "id": "9D-5ScJw24pB"
      }
    },
    {
      "cell_type": "code",
      "source": [
        "if not os.path.exists(os.path.join(result_dir, 'phase_4_2')):\n",
        "  os.makedirs(os.path.join(result_dir, 'phase_4_2'))"
      ],
      "metadata": {
        "id": "8ddC28tG27S2"
      },
      "execution_count": null,
      "outputs": []
    },
    {
      "cell_type": "code",
      "source": [
        "model_cn = CompletionNetwork()\n",
        "#model_cn.load_state_dict(torch.load(os.path.join(result_dir, 'phase_3', 'cn_step500000.pth'), map_location='cpu'))\n",
        "model_cn.load_state_dict(torch.load(os.path.join(result_dir, 'phase_4_2', 'cn_step50000.pth'), map_location='cpu'))\n",
        "model_cn = model_cn.to(device)\n",
        "opt_cn = Adadelta(model_cn.parameters())\n",
        "G_loss4_2 = []\n",
        "model_cd = ContextDiscriminator(\n",
        "    local_input_shape=(3, ld_input_size, ld_input_size),\n",
        "    global_input_shape=(3, cn_input_size, cn_input_size)\n",
        ")\n",
        "#model_cd.load_state_dict(torch.load(os.path.join(result_dir, 'phase_3', 'cd_step500000.pth'), map_location='cpu'))\n",
        "model_cd.load_state_dict(torch.load(os.path.join(result_dir, 'phase_4_2', 'cd_step50000.pth'), map_location='cpu'))\n",
        "model_cd = model_cd.to(device)\n",
        "opt_cd = Adadelta(model_cd.parameters())\n",
        "loss_cd = BCELoss()\n",
        "D_loss4_2 = []"
      ],
      "metadata": {
        "id": "-JmZ96S62_Tl"
      },
      "execution_count": null,
      "outputs": []
    },
    {
      "cell_type": "code",
      "source": [
        "cnt_bdivs = 0\n",
        "bceloss = BCELoss()\n",
        "pbar =tqdm(total=steps4_2)\n",
        "\n",
        "while pbar.n < steps4_2:\n",
        "  for x in train_loader:\n",
        "    ## forward model_cd\n",
        "    x = x.to(device)\n",
        "    hole_area_fake = define_hole_area(\n",
        "        (ld_input_size, ld_input_size),\n",
        "        (x.shape[3], x.shape[2]))\n",
        "    mask = generate_circle_mask(\n",
        "        shape=(x.shape[0], 1, x.shape[2], x.shape[3]),\n",
        "        radius_range=(\n",
        "            radius_min, radius_max\n",
        "        ),\n",
        "        hole_area=hole_area_fake[0],\n",
        "        n_holes=n_holes\n",
        "    ).to(torch.float32).to(device)\n",
        "    # fake forward\n",
        "    fake = torch.zeros((len(x), 1)).to(device)\n",
        "    x_mask = x - x * mask + mpv * mask\n",
        "    input_cn = torch.cat((x_mask, mask), dim=1)\n",
        "    output_cn = model_cn(input_cn)\n",
        "    input_gd_fake = output_cn.detach()\n",
        "    input_ld_fake = crop(input_gd_fake, hole_area_fake)\n",
        "    output_fake = model_cd((input_ld_fake, input_gd_fake))\n",
        "    loss_cd_fake = bceloss(output_fake, fake)\n",
        "    # real forward\n",
        "    hole_area_real = define_hole_area(\n",
        "        (ld_input_size, ld_input_size),\n",
        "        (x.shape[3], x.shape[2])\n",
        "    )\n",
        "    real = torch.ones((len(x), 1)).to(device)\n",
        "    input_gd_real = x\n",
        "    input_ld_real = crop(input_gd_real, hole_area_real)\n",
        "    output_real = model_cd((input_ld_real, input_gd_real))\n",
        "    loss_cd_real = bceloss(output_real, real)\n",
        "    ## backward model_cd\n",
        "    loss_cd = (loss_cd_fake + loss_cd_real) * alpha / 2.\n",
        "    D_loss4_2.append(loss_cd)\n",
        "    loss_cd.backward()\n",
        "    cnt_bdivs += 1\n",
        "    if cnt_bdivs >= bdivs:\n",
        "      # optimize\n",
        "      opt_cd.step()\n",
        "      opt_cd.zero_grad()\n",
        "    ## forward model_cn\n",
        "    loss_cn_1 = mse_loss(x*mask, output_cn*mask)\n",
        "    input_gd_fake = output_cn\n",
        "    input_ld_fake = crop(input_gd_fake, hole_area_fake)\n",
        "    output_fake = model_cd((input_ld_fake, input_gd_fake))\n",
        "    loss_cn_2 = bceloss(output_fake, real)\n",
        "    ## backward model_cn\n",
        "    loss_cn = (loss_cn_1 + alpha * loss_cn_2) / 2.\n",
        "    G_loss4_2.append(loss_cn)\n",
        "    loss_cn.backward()\n",
        "    if cnt_bdivs >= bdivs:\n",
        "      cnt_bdivs = 0\n",
        "      # optimize\n",
        "      opt_cn.step()\n",
        "      opt_cn.zero_grad()\n",
        "      pbar.set_description(\n",
        "          'phase4 | train loss (cd): %.5f (cn): %5.f' % (\n",
        "              loss_cd.cpu(),\n",
        "              loss_cn.cpu()\n",
        "          )\n",
        "      )\n",
        "      pbar.update()\n",
        "      ## test\n",
        "      if pbar.n % snaperiod4_2 == 0:\n",
        "        model_cn.eval()\n",
        "        with torch.no_grad():\n",
        "          x = sample_random_batch(\n",
        "              test,\n",
        "              batch_size=num_test_completions\n",
        "          ).to(device)\n",
        "          mask = generate_circle_mask(\n",
        "              shape=(x.shape[0], 1, x.shape[2], x.shape[3]),\n",
        "              radius_range=(\n",
        "                  radius_min, radius_max\n",
        "              ),\n",
        "              hole_area=define_hole_area(\n",
        "                  (ld_input_size, ld_input_size),\n",
        "                  (x.shape[3], x.shape[2])\n",
        "              )[0],\n",
        "              n_holes=n_holes\n",
        "          ).to(torch.float32).to(device)\n",
        "          x_mask = x - x * mask + mpv * mask\n",
        "          input = torch.cat((x_mask, mask), dim=1)\n",
        "          output = model_cn(input)\n",
        "          completed = get_completion_image(x, output, mask)\n",
        "          imgs = torch.cat((\n",
        "              x.cpu(),\n",
        "              x_mask.cpu(),\n",
        "              completed.cpu()\n",
        "          ), dim=0)\n",
        "          imgpath = os.path.join(\n",
        "              result_dir, 'phase_4_2', 'step%d.png' % (pbar.n)\n",
        "          )\n",
        "          model_cn_path = os.path.join(\n",
        "              result_dir, 'phase_4_2', 'cn_step%d.pth' % (pbar.n)\n",
        "          )\n",
        "          model_cd_path = os.path.join(\n",
        "              result_dir, 'phase_4_2', 'cd_step%d.pth' % (pbar.n)\n",
        "          )\n",
        "          save_image(imgs, imgpath, nrow=len(x))\n",
        "          torch.save(model_cn.state_dict(), model_cn_path)\n",
        "          torch.save(model_cd.state_dict(), model_cd_path)\n",
        "        model_cn.train()\n",
        "      if pbar.n >= steps4_2:\n",
        "        break;\n",
        "pbar.close()"
      ],
      "metadata": {
        "id": "ZVp0fxQa3OfB"
      },
      "execution_count": null,
      "outputs": []
    },
    {
      "cell_type": "code",
      "source": [
        "fig = plt.figure(figsize=(18,6))\n",
        "plt.plot(G_loss4_2, label='Generator', color=\"#ff7f00\")\n",
        "plt.plot(D_loss4_2, label='Discriminator', color=\"#377eb8\")\n",
        "plt.xlabel('Iteration', fontsize=16)\n",
        "plt.ylabel('Loss', fontsize=16)\n",
        "plt.legend(fontsize=15)\n",
        "fig.savefig(os.path.join(result_dir, 'phase_4_2', 'DG_loss100000.png'))"
      ],
      "metadata": {
        "id": "AAMNSg9y3hjJ",
        "colab": {
          "base_uri": "https://localhost:8080/"
        },
        "outputId": "06d1593b-b53c-40ae-ee0c-8cee08ee694e"
      },
      "execution_count": null,
      "outputs": [
        {
          "output_type": "display_data",
          "data": {
            "image/png": "[encoded data removed]",
            "text/plain": [
              "<Figure size 1296x432 with 1 Axes>"
            ]
          },
          "metadata": {
            "needs_background": "light"
          }
        }
      ]
    },
    {
      "cell_type": "code",
      "source": [
        "joblib.dump(D_loss4_2, os.path.join(result_dir, 'phase_4_2', 'D_loss100000.txt'))\n",
        "joblib.dump(G_loss4_2, os.path.join(result_dir, 'phase_4_2', 'G_loss100000.txt'))"
      ],
      "metadata": {
        "id": "jBIRa1oq3x0T",
        "colab": {
          "base_uri": "https://localhost:8080/"
        },
        "outputId": "bbc57d31-12d9-4c6e-b663-394c01b09197"
      },
      "execution_count": null,
      "outputs": [
        {
          "output_type": "execute_result",
          "data": {
            "text/plain": [
              "['/content/drive/MyDrive/experiment/final/result/phase_4_2/G_loss100000.txt']"
            ]
          },
          "metadata": {},
          "execution_count": 33
        }
      ]
    },
    {
      "cell_type": "markdown",
      "source": [
        "## Training with sfloss"
      ],
      "metadata": {
        "id": "gUNX9mc7W5kU"
      }
    },
    {
      "cell_type": "code",
      "source": [
        "sf_loss = SpatialFrequencyLoss(3)"
      ],
      "metadata": {
        "colab": {
          "base_uri": "https://localhost:8080/"
        },
        "id": "2_vOPf5Cg-p7",
        "outputId": "4c4a834d-fdac-4f93-9db3-c84419c811b8"
      },
      "execution_count": 14,
      "outputs": [
        {
          "output_type": "stream",
          "name": "stderr",
          "text": [
            "/usr/local/lib/python3.7/dist-packages/torch/functional.py:445: UserWarning: torch.meshgrid: in an upcoming release, it will be required to pass the indexing argument. (Triggered internally at  ../aten/src/ATen/native/TensorShape.cpp:2157.)\n",
            "  return _VF.meshgrid(tensors, **kwargs)  # type: ignore[attr-defined]\n"
          ]
        }
      ]
    },
    {
      "cell_type": "markdown",
      "source": [
        "### Phase 1\n",
        "pre-train Generator  10000iter: 1h40min"
      ],
      "metadata": {
        "id": "tPhbkRjwXBxp"
      }
    },
    {
      "cell_type": "code",
      "source": [
        "model_cn = CompletionNetwork()\n",
        "model_cn = model_cn.to(device)\n",
        "opt_cn = Adadelta(model_cn.parameters())\n",
        "G_loss = []"
      ],
      "metadata": {
        "id": "vVFDjpq4fFVb"
      },
      "execution_count": 15,
      "outputs": []
    },
    {
      "cell_type": "code",
      "source": [
        "if not os.path.exists(os.path.join(result_dir, 'phase_1b')):\n",
        "  os.mkdir(os.path.join(result_dir, 'phase_1b'))"
      ],
      "metadata": {
        "id": "LCpNjxvrgg3w"
      },
      "execution_count": 16,
      "outputs": []
    },
    {
      "cell_type": "code",
      "source": [
        "cnt_bdivs = 0\n",
        "pbar = tqdm(total=steps1)\n",
        "\n",
        "while pbar.n < steps1:\n",
        "  for x in train_loader:\n",
        "    # forward\n",
        "    x = x.to(device)\n",
        "    mask = generate_multiple_mask(\n",
        "        shape=(x.shape[0], 1, x.shape[2], x.shape[3]),\n",
        "        hole_size=((hole_min_w, hole_max_w),\n",
        "                   (hole_min_h, hole_max_h)),\n",
        "        hole_area=define_hole_area(\n",
        "            (ld_input_size, ld_input_size),\n",
        "            (x.shape[3], x.shape[2])\n",
        "        )[0],\n",
        "        n_holes=1\n",
        "    ).to(device)\n",
        "    x_mask = x - x * mask + mpv * mask\n",
        "    input = torch.cat((x_mask, mask), dim=1)\n",
        "    output = model_cn(input)\n",
        "    loss = sf_loss(x*mask, output*mask)\n",
        "    G_loss.append(loss.item())\n",
        "\n",
        "    # backward\n",
        "    loss.backward()\n",
        "    cnt_bdivs += 1\n",
        "    if cnt_bdivs >= bdivs:\n",
        "      cnt_bdivs = 0\n",
        "      opt_cn.step()\n",
        "      opt_cn.zero_grad()\n",
        "      pbar.set_description('phase 1b | train loss: %.5f' % loss.cpu())\n",
        "      pbar.update()\n",
        "\n",
        "      # test\n",
        "      if pbar.n % snaperiod1 == 0:\n",
        "        model_cn.eval()\n",
        "        with torch.no_grad():\n",
        "          x = sample_random_batch(\n",
        "              test,\n",
        "              batch_size=num_test_completions\n",
        "          ).to(device)\n",
        "          mask = generate_multiple_mask(\n",
        "              shape=(x.shape[0], 1, x.shape[2], x.shape[3]),\n",
        "              hole_size=((hole_min_w, hole_max_w),\n",
        "                         (hole_min_h, hole_max_h)),\n",
        "              hole_area=define_hole_area(\n",
        "              (ld_input_size, ld_input_size),\n",
        "              (x.shape[3], x.shape[2])\n",
        "              )[0],\n",
        "              n_holes=1\n",
        "          ).to(device)\n",
        "          x_mask = x - x * mask + mpv * mask\n",
        "          input = torch.cat((x_mask, mask), dim=1)\n",
        "          output = model_cn(input)\n",
        "          completed = get_completion_image(x, output, mask)\n",
        "          # 結果とモデルの保存\n",
        "          imgs = torch.cat((\n",
        "              x.cpu(),\n",
        "              x_mask.cpu(),\n",
        "              completed.cpu()\n",
        "          ), dim=0)\n",
        "          img_path = os.path.join(\n",
        "              result_dir, 'phase_1b', 'step%d.png' % (pbar.n+20000)\n",
        "          )\n",
        "          save_image(imgs, img_path, nrow=len(x))\n",
        "          model_cn_path = os.path.join(\n",
        "              result_dir, 'phase_1b', 'step%d.pth' % (pbar.n+20000)\n",
        "          )\n",
        "          torch.save(\n",
        "              model_cn.state_dict(),\n",
        "              model_cn_path\n",
        "          )\n",
        "        model_cn.train()\n",
        "      if pbar.n >= steps1:\n",
        "        break\n",
        "    break\n",
        "pbar.close()"
      ],
      "metadata": {
        "id": "d48L3zlPfFkL",
        "colab": {
          "base_uri": "https://localhost:8080/",
          "height": 285
        },
        "outputId": "a5e56f7d-d53e-4741-8281-052350597151"
      },
      "execution_count": 27,
      "outputs": [
        {
          "output_type": "stream",
          "name": "stderr",
          "text": [
            "phase 1b | train loss: 0.36508:   0%|          | 2/90000 [00:26<327:55:17, 13.12s/it]\n",
            "phase 1b | train loss: 0.34514:  11%|█         | 10089/90000 [1:48:16<14:22:07,  1.54it/s]"
          ]
        },
        {
          "output_type": "error",
          "ename": "KeyboardInterrupt",
          "evalue": "ignored",
          "traceback": [
            "\u001b[0;31m---------------------------------------------------------------------------\u001b[0m",
            "\u001b[0;31mKeyboardInterrupt\u001b[0m                         Traceback (most recent call last)",
            "\u001b[0;32m<ipython-input-27-5cebe3ed3f84>\u001b[0m in \u001b[0;36m<module>\u001b[0;34m()\u001b[0m\n\u001b[1;32m     20\u001b[0m     \u001b[0moutput\u001b[0m \u001b[0;34m=\u001b[0m \u001b[0mmodel_cn\u001b[0m\u001b[0;34m(\u001b[0m\u001b[0minput\u001b[0m\u001b[0;34m)\u001b[0m\u001b[0;34m\u001b[0m\u001b[0;34m\u001b[0m\u001b[0m\n\u001b[1;32m     21\u001b[0m     \u001b[0mloss\u001b[0m \u001b[0;34m=\u001b[0m \u001b[0msf_loss\u001b[0m\u001b[0;34m(\u001b[0m\u001b[0mx\u001b[0m\u001b[0;34m*\u001b[0m\u001b[0mmask\u001b[0m\u001b[0;34m,\u001b[0m \u001b[0moutput\u001b[0m\u001b[0;34m*\u001b[0m\u001b[0mmask\u001b[0m\u001b[0;34m)\u001b[0m\u001b[0;34m\u001b[0m\u001b[0;34m\u001b[0m\u001b[0m\n\u001b[0;32m---> 22\u001b[0;31m     \u001b[0mG_loss\u001b[0m\u001b[0;34m.\u001b[0m\u001b[0mappend\u001b[0m\u001b[0;34m(\u001b[0m\u001b[0mloss\u001b[0m\u001b[0;34m.\u001b[0m\u001b[0mitem\u001b[0m\u001b[0;34m(\u001b[0m\u001b[0;34m)\u001b[0m\u001b[0;34m)\u001b[0m\u001b[0;34m\u001b[0m\u001b[0;34m\u001b[0m\u001b[0m\n\u001b[0m\u001b[1;32m     23\u001b[0m \u001b[0;34m\u001b[0m\u001b[0m\n\u001b[1;32m     24\u001b[0m     \u001b[0;31m# backward\u001b[0m\u001b[0;34m\u001b[0m\u001b[0;34m\u001b[0m\u001b[0;34m\u001b[0m\u001b[0m\n",
            "\u001b[0;31mKeyboardInterrupt\u001b[0m: "
          ]
        }
      ]
    },
    {
      "cell_type": "code",
      "source": [
        "fig = plt.figure(figsize=(12,6))\n",
        "plt.plot(G_loss)\n",
        "plt.xlabel('Iteration', fontsize=14)\n",
        "plt.ylabel('Loss', fontsize=14)\n",
        "fig.savefig(os.path.join(result_dir, 'phase_1b', 'G_loss30000.png'))"
      ],
      "metadata": {
        "id": "jXazLbubfKtJ",
        "colab": {
          "base_uri": "https://localhost:8080/",
          "height": 392
        },
        "outputId": "b6750ad5-0d9c-4bf7-da5d-5b24a17c99fc"
      },
      "execution_count": 32,
      "outputs": [
        {
          "output_type": "display_data",
          "data": {
            "image/png": "[encoded data removed]",
            "text/plain": [
              "<Figure size 864x432 with 1 Axes>"
            ]
          },
          "metadata": {
            "needs_background": "light"
          }
        }
      ]
    },
    {
      "cell_type": "code",
      "source": [
        "joblib.dump(G_loss, os.path.join(result_dir, 'phase_1b', 'G_loss30000.txt'))"
      ],
      "metadata": {
        "id": "apgMB5PYfKvb",
        "colab": {
          "base_uri": "https://localhost:8080/"
        },
        "outputId": "c18677a2-a295-4610-91b5-012c2a3f0d05"
      },
      "execution_count": 33,
      "outputs": [
        {
          "output_type": "execute_result",
          "data": {
            "text/plain": [
              "['/content/drive/MyDrive/experiment/final/result/phase_1b/G_loss30000.txt']"
            ]
          },
          "metadata": {},
          "execution_count": 33
        }
      ]
    },
    {
      "cell_type": "markdown",
      "source": [
        "### Phase 2\n",
        "pre-train Discriminator"
      ],
      "metadata": {
        "id": "CglOCx3eXB9x"
      }
    },
    {
      "cell_type": "code",
      "source": [
        "if not os.path.exists(os.path.join(result_dir, 'phase_2b')):\n",
        "  os.mkdir(os.path.join(result_dir, 'phase_2b'))"
      ],
      "metadata": {
        "id": "reRVKaZcEfv2"
      },
      "execution_count": 34,
      "outputs": []
    },
    {
      "cell_type": "code",
      "source": [
        "model_cd = ContextDiscriminator(\n",
        "    local_input_shape=(3, ld_input_size, ld_input_size),\n",
        "    global_input_shape=(3, cn_input_size, cn_input_size)\n",
        ")\n",
        "model_cd = model_cd.to(device)\n",
        "opt_cd = Adadelta(model_cd.parameters())\n",
        "loss_cd = BCELoss()\n",
        "D_loss = []"
      ],
      "metadata": {
        "id": "FwMLTYO5EKTt"
      },
      "execution_count": 43,
      "outputs": []
    },
    {
      "cell_type": "code",
      "source": [
        "cnt_bdivs = 0\n",
        "pbar = tqdm(total=steps2)\n",
        "while pbar.n < steps2:\n",
        "  for x in train_loader:\n",
        "    x = x.to(device)\n",
        "    # fake forward\n",
        "    hole_area_fake = define_hole_area(\n",
        "        (ld_input_size, ld_input_size),\n",
        "        (x.shape[3], x.shape[2])\n",
        "    )\n",
        "    mask = generate_multiple_mask(\n",
        "        shape=(\n",
        "            x.shape[0], 1, x.shape[2], x.shape[3]\n",
        "        ),\n",
        "        hole_size=(\n",
        "            (hole_min_w, hole_max_w), (hole_min_h, hole_max_h)\n",
        "        ),\n",
        "        hole_area=hole_area_fake[0],\n",
        "        n_holes=1\n",
        "    ).to(device)\n",
        "    fake = torch.zeros((len(x), 1)).to(device)\n",
        "    x_mask = x - x * mask + mpv * mask\n",
        "    input_cn = torch.cat((x_mask, mask), dim=1)\n",
        "    output_cn = model_cn(input_cn)\n",
        "    input_gd_fake = output_cn.detach()\n",
        "    input_ld_fake = crop(input_gd_fake, hole_area_fake)\n",
        "    output_fake = model_cd((\n",
        "        input_ld_fake.to(device),\n",
        "        input_gd_fake.to(device)))\n",
        "    loss_fake = loss_cd(output_fake, fake)\n",
        "    # real forward\n",
        "    hole_area_real = define_hole_area(\n",
        "        (ld_input_size, ld_input_size),\n",
        "        (x.shape[3], x.shape[2])\n",
        "    )\n",
        "    real = torch.ones((len(x), 1)).to(device)\n",
        "    input_gd_real = x\n",
        "    input_ld_real = crop(input_gd_real, hole_area_real)\n",
        "    output_real = model_cd((input_ld_real, input_gd_real))\n",
        "    loss_real = loss_cd(output_real, real)\n",
        "\n",
        "    loss = (loss_fake + loss_real) / 2\n",
        "    D_loss.append(loss)\n",
        "\n",
        "    # backward\n",
        "    loss.backward()\n",
        "    cnt_bdivs += 1\n",
        "    if cnt_bdivs >= bdivs:\n",
        "      cnt_bdivs = 0\n",
        "      opt_cd.step()\n",
        "      opt_cd.zero_grad()\n",
        "      pbar.set_description('phase 2b | train loss: %.5f' % loss.cpu())\n",
        "      pbar.update()\n",
        "\n",
        "      # test\n",
        "      if pbar.n % snaperiod2 == 0:\n",
        "        model_cn.eval()\n",
        "        with torch.no_grad():\n",
        "          x = sample_random_batch(test, batch_size=num_test_completions).to(device)\n",
        "          mask = generate_mask(\n",
        "              shape=(x.shape[0], 1, x.shape[2], x.shape[3]),\n",
        "              hole_size=((hole_min_w, hole_max_w),\n",
        "                         (hole_min_h, hole_max_h)),\n",
        "              hole_area=define_hole_area(\n",
        "              (ld_input_size, ld_input_size),\n",
        "              (x.shape[3], x.shape[2])\n",
        "              )[0]\n",
        "          ).to(device)\n",
        "          x_mask = x - x * mask + mpv * mask\n",
        "          input = torch.cat((x_mask, mask), dim=1)\n",
        "          output = model_cn(input)\n",
        "          completed = get_completion_image(x, output, mask)\n",
        "          imgs = torch.cat((\n",
        "              x.cpu(),\n",
        "              x_mask.cpu(),\n",
        "              completed.cpu()\n",
        "          ), dim=0)\n",
        "          img_path = os.path.join(\n",
        "              result_dir, 'phase_2b', 'step%d.png' % (pbar.n)\n",
        "          )\n",
        "          save_image(imgs, img_path, nrow=len(x))\n",
        "          model_path = os.path.join(\n",
        "              result_dir, 'phase_2b', 'step%d.pth' % (pbar.n)\n",
        "          )\n",
        "          torch.save(model_cd.state_dict(), model_path)\n",
        "        model_cn.train()\n",
        "      if pbar.n >= steps2:\n",
        "        break\n",
        "pbar.close()"
      ],
      "metadata": {
        "colab": {
          "base_uri": "https://localhost:8080/"
        },
        "id": "f6CGU_TNEOV4",
        "outputId": "6bae7a07-d160-44df-de10-214804477978"
      },
      "execution_count": 44,
      "outputs": [
        {
          "output_type": "stream",
          "name": "stderr",
          "text": [
            "phase 2b | train loss: 0.11710:   0%|          | 26/10000 [00:29<3:05:53,  1.12s/it]\n",
            "phase 2b | train loss: 0.00000: 100%|██████████| 10000/10000 [25:10<00:00,  6.62it/s]\n"
          ]
        }
      ]
    },
    {
      "cell_type": "code",
      "source": [
        "fig = plt.figure(figsize=(12, 6))\n",
        "plt.plot(D_loss)\n",
        "plt.xlabel('Iteration', fontsize=14)\n",
        "plt.ylabel('Loss', fontsize=14)\n",
        "fig.savefig(os.path.join(result_dir, 'phase_2b', 'D_loss10000.png'))"
      ],
      "metadata": {
        "colab": {
          "base_uri": "https://localhost:8080/",
          "height": 392
        },
        "id": "GDPqzbhXEOYG",
        "outputId": "7a45d2d0-11d0-48a5-fb97-76d4c257e850"
      },
      "execution_count": 47,
      "outputs": [
        {
          "output_type": "display_data",
          "data": {
            "image/png": "[encoded data removed]",
            "text/plain": [
              "<Figure size 864x432 with 1 Axes>"
            ]
          },
          "metadata": {
            "needs_background": "light"
          }
        }
      ]
    },
    {
      "cell_type": "code",
      "source": [
        "joblib.dump(D_loss, os.path.join(result_dir, 'phase_2b', 'D_loss10000.txt'))"
      ],
      "metadata": {
        "id": "MeoORc5rESh2"
      },
      "execution_count": null,
      "outputs": []
    },
    {
      "cell_type": "markdown",
      "source": [
        "### Phase 3\n",
        "train Discriminator & Generator  10000iter: 2h"
      ],
      "metadata": {
        "id": "xyTgrJ7HXCJ6"
      }
    },
    {
      "cell_type": "code",
      "source": [
        "if not os.path.exists(os.path.join(result_dir, 'phase_3b')):\n",
        "  os.mkdir(os.path.join(result_dir, 'phase_3b'))"
      ],
      "metadata": {
        "id": "jTpDVvskCu0P"
      },
      "execution_count": 52,
      "outputs": []
    },
    {
      "cell_type": "code",
      "source": [
        "path_model_cn = os.path.join(result_dir, 'phase_3b', 'cn_step10000.pth')\n",
        "path_model_cd = os.path.join(result_dir, 'phase_3b', 'cd_step10000.pth')"
      ],
      "metadata": {
        "id": "ercTtFBaBFDB"
      },
      "execution_count": 64,
      "outputs": []
    },
    {
      "cell_type": "code",
      "source": [
        "model_cn = CompletionNetwork()\n",
        "model_cn.load_state_dict(torch.load(path_model_cn, map_location='cpu'))\n",
        "model_cn = model_cn.to(device)\n",
        "opt_cn = Adadelta(model_cn.parameters())\n",
        "G_loss3 = []\n",
        "\n",
        "model_cd = ContextDiscriminator(\n",
        "    local_input_shape=(3, ld_input_size, ld_input_size),\n",
        "    global_input_shape=(3, cn_input_size, cn_input_size)\n",
        ")\n",
        "model_cd.load_state_dict(torch.load(path_model_cd, map_location='cpu'))\n",
        "model_cd = model_cd.to(device)\n",
        "opt_cd = Adadelta(model_cd.parameters())\n",
        "loss_cd = BCELoss()\n",
        "D_loss3 = []"
      ],
      "metadata": {
        "id": "yZ_XHDZnBFJf"
      },
      "execution_count": 67,
      "outputs": []
    },
    {
      "cell_type": "code",
      "source": [
        "cnt_bdivs = 0\n",
        "bceloss = BCELoss()\n",
        "pbar =tqdm(total=50000)\n",
        "\n",
        "while pbar.n < 50000:\n",
        "  for x in train_loader:\n",
        "    ## forward model_cd\n",
        "    x = x.to(device)\n",
        "    hole_area_fake = define_hole_area(\n",
        "        (ld_input_size, ld_input_size),\n",
        "        (x.shape[3], x.shape[2]))\n",
        "    mask = generate_multiple_mask(\n",
        "        shape=(x.shape[0], 1, x.shape[2], x.shape[3]),\n",
        "        hole_size=(\n",
        "            (hole_min_w, hole_max_w),\n",
        "            (hole_min_h, hole_max_h)\n",
        "        ),\n",
        "        hole_area=hole_area_fake[0],\n",
        "        n_holes=1\n",
        "    ).to(device)\n",
        "    # fake forward\n",
        "    fake = torch.zeros((len(x), 1)).to(device)\n",
        "    x_mask = x - x * mask + mpv * mask\n",
        "    input_cn = torch.cat((x_mask, mask), dim=1)\n",
        "    output_cn = model_cn(input_cn)\n",
        "    input_gd_fake = output_cn.detach()\n",
        "    input_ld_fake = crop(input_gd_fake, hole_area_fake)\n",
        "    output_fake = model_cd((input_ld_fake, input_gd_fake))\n",
        "    loss_cd_fake = bceloss(output_fake, fake)\n",
        "    # real forward\n",
        "    hole_area_real = define_hole_area(\n",
        "        (ld_input_size, ld_input_size),\n",
        "        (x.shape[3], x.shape[2])\n",
        "    )\n",
        "    real = torch.ones((len(x), 1)).to(device)\n",
        "    input_gd_real = x\n",
        "    input_ld_real = crop(input_gd_real, hole_area_real)\n",
        "    output_real = model_cd((input_ld_real, input_gd_real))\n",
        "    loss_cd_real = bceloss(output_real, real)\n",
        "    ## backward model_cd\n",
        "    loss_cd = (loss_cd_fake + loss_cd_real) * alpha / 2.\n",
        "    D_loss3.append(loss_cd)\n",
        "    loss_cd.backward()\n",
        "    cnt_bdivs += 1\n",
        "    if cnt_bdivs >= bdivs:\n",
        "      # optimize\n",
        "      opt_cd.step()\n",
        "      opt_cd.zero_grad()\n",
        "    ## forward model_cn\n",
        "    loss_cn_1 = sf_loss(x*mask, output_cn*mask)\n",
        "    input_gd_fake = output_cn\n",
        "    input_ld_fake = crop(input_gd_fake, hole_area_fake)\n",
        "    output_fake = model_cd((input_ld_fake, input_gd_fake))\n",
        "    loss_cn_2 = bceloss(output_fake, real)\n",
        "    ## backward model_cn\n",
        "    loss_cn = (loss_cn_1 + alpha * loss_cn_2) / 2.\n",
        "    G_loss3.append(loss_cn)\n",
        "    loss_cn.backward()\n",
        "    if cnt_bdivs >= bdivs:\n",
        "      cnt_bdivs = 0\n",
        "      # optimize\n",
        "      opt_cn.step()\n",
        "      opt_cn.zero_grad()\n",
        "      pbar.set_description(\n",
        "          'phase3b | train loss (cd): %.5f (cn): %5.f' % (\n",
        "              loss_cd.cpu(),\n",
        "              loss_cn.cpu()\n",
        "          )\n",
        "      )\n",
        "      pbar.update()\n",
        "      ## test\n",
        "      if pbar.n % snaperiod3 == 0:\n",
        "        model_cn.eval()\n",
        "        with torch.no_grad():\n",
        "          x = sample_random_batch(\n",
        "              test,\n",
        "              batch_size=num_test_completions\n",
        "          ).to(device)\n",
        "          mask = generate_multiple_mask(\n",
        "              shape=(x.shape[0], 1, x.shape[2], x.shape[3]),\n",
        "              hole_size=(\n",
        "                  (hole_min_w, hole_max_w),\n",
        "                  (hole_min_h, hole_max_h)\n",
        "              ),\n",
        "              hole_area=define_hole_area(\n",
        "                  (ld_input_size, ld_input_size),\n",
        "                  (x.shape[3], x.shape[2])\n",
        "              )[0],\n",
        "              n_holes=1\n",
        "          ).to(device)\n",
        "          x_mask = x - x * mask + mpv * mask\n",
        "          input = torch.cat((x_mask, mask), dim=1)\n",
        "          output = model_cn(input)\n",
        "          completed = get_completion_image(x, output, mask)\n",
        "          imgs = torch.cat((\n",
        "              x.cpu(),\n",
        "              x_mask.cpu(),\n",
        "              completed.cpu()\n",
        "          ), dim=0)\n",
        "          imgpath = os.path.join(\n",
        "              result_dir, 'phase_3b', 'step%d.png' % (pbar.n+20000)\n",
        "          )\n",
        "          model_cn_path = os.path.join(\n",
        "              result_dir, 'phase_3b', 'cn_step%d.pth' % (pbar.n+20000)\n",
        "          )\n",
        "          model_cd_path = os.path.join(\n",
        "              result_dir, 'phase_3b', 'cd_step%d.pth' % (pbar.n+20000)\n",
        "          )\n",
        "          save_image(imgs, imgpath, nrow=len(x))\n",
        "          torch.save(model_cn.state_dict(), model_cn_path)\n",
        "          torch.save(model_cd.state_dict(), model_cd_path)\n",
        "          joblib.dump(D_loss3, os.path.join(result_dir, 'phase_3b', 'D_loss%d.txt' % (pbar.n+20000)))\n",
        "          joblib.dump(G_loss3, os.path.join(result_dir, 'phase_3b', 'G_loss%d.txt' % (pbar.n+20000)))\n",
        "          del D_loss3, G_loss3\n",
        "          gc.collect()\n",
        "          D_loss3 = []\n",
        "          G_loss3 = []\n",
        "        model_cn.train()\n",
        "      if pbar.n >= 50000:\n",
        "        break;\n",
        "pbar.close()"
      ],
      "metadata": {
        "colab": {
          "base_uri": "https://localhost:8080/"
        },
        "id": "Jmedlf3UBFNB",
        "outputId": "745db8c6-232c-43f2-8eb5-c3d836244f21"
      },
      "execution_count": 68,
      "outputs": [
        {
          "output_type": "stream",
          "name": "stderr",
          "text": [
            "phase3b | train loss (cd): 0.00019 (cn):     0:   0%|          | 3/10000 [00:08<8:08:52,  2.93s/it]\n",
            "phase3b | train loss (cd): 0.00015 (cn):     0: 100%|██████████| 10000/10000 [2:03:33<00:00,  1.35it/s]\n"
          ]
        }
      ]
    },
    {
      "cell_type": "code",
      "source": [
        "for i in range(1, 3):\n",
        "  g = joblib.load(os.path.join(result_dir, 'phase_3b', 'G_loss%d.txt' % (10000*i)))\n",
        "  d = joblib.load(os.path.join(result_dir, 'phase_3b', 'D_loss%d.txt' % (10000*i)))\n",
        "  G_loss3 = G_loss3 + g\n",
        "  D_loss3 = D_loss3 + d"
      ],
      "metadata": {
        "id": "FIsztIbViALM"
      },
      "execution_count": 71,
      "outputs": []
    },
    {
      "cell_type": "code",
      "source": [
        "fig = plt.figure(figsize=(18,6))\n",
        "plt.plot(G_loss3, label='Generator', color=\"#ff7f00\")\n",
        "plt.plot(D_loss3, label='Discriminator', color=\"#377eb8\")\n",
        "plt.xlabel('Iteration', fontsize=16)\n",
        "plt.ylabel('Loss', fontsize=16)\n",
        "plt.legend(fontsize=15)\n",
        "#fig.savefig(os.path.join(result_dir, 'phase_3', 'DG_loss500000.png'))"
      ],
      "metadata": {
        "colab": {
          "base_uri": "https://localhost:8080/",
          "height": 411
        },
        "id": "VUR2MHm1BFP5",
        "outputId": "67cb56af-b8c5-4bb2-8a4a-12b9748a4c5e"
      },
      "execution_count": 73,
      "outputs": [
        {
          "output_type": "execute_result",
          "data": {
            "text/plain": [
              "<matplotlib.legend.Legend at 0x7f06d57d7d50>"
            ]
          },
          "metadata": {},
          "execution_count": 73
        },
        {
          "output_type": "display_data",
          "data": {
            "image/png": "[encoded data removed]",
            "text/plain": [
              "<Figure size 1296x432 with 1 Axes>"
            ]
          },
          "metadata": {
            "needs_background": "light"
          }
        }
      ]
    },
    {
      "cell_type": "markdown",
      "source": [
        "### Phase 4\n",
        "train with multiple circle hole"
      ],
      "metadata": {
        "id": "6dBa2E_5XCnh"
      }
    },
    {
      "cell_type": "code",
      "source": [
        "if not os.path.exists(os.path.join(result_dir, 'phase_4b')):\n",
        "  os.mkdir(os.path.join(result_dir, 'phase_4b'))"
      ],
      "metadata": {
        "id": "Yf8VzsTdUhHP"
      },
      "execution_count": null,
      "outputs": []
    },
    {
      "cell_type": "code",
      "source": [
        "path_model_cn = os.path.join(result_dir, 'phase_3b', 'cn_step30000.pth')\n",
        "path_model_cd = os.path.join(result_dir, 'phase_3b', 'cd_step10000.pth')"
      ],
      "metadata": {
        "id": "zhv1tfK0UmDm"
      },
      "execution_count": null,
      "outputs": []
    },
    {
      "cell_type": "code",
      "source": [
        "model_cn = CompletionNetwork()\n",
        "model_cn.load_state_dict(torch.load(path_model_cn, map_location='cpu'))\n",
        "model_cn = model_cn.to(device)\n",
        "opt_cn = Adadelta(model_cn.parameters())\n",
        "G_loss3 = []\n",
        "\n",
        "model_cd = ContextDiscriminator(\n",
        "    local_input_shape=(3, ld_input_size, ld_input_size),\n",
        "    global_input_shape=(3, cn_input_size, cn_input_size)\n",
        ")\n",
        "model_cd.load_state_dict(torch.load(path_model_cd, map_location='cpu'))\n",
        "model_cd = model_cd.to(device)\n",
        "opt_cd = Adadelta(model_cd.parameters())\n",
        "loss_cd = BCELoss()\n",
        "D_loss3 = []"
      ],
      "metadata": {
        "id": "hvDDsCcAUp9J"
      },
      "execution_count": null,
      "outputs": []
    }
  ]
}