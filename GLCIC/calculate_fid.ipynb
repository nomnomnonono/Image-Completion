{
  "nbformat": 4,
  "nbformat_minor": 0,
  "metadata": {
    "colab": {
      "name": "calculate_fid.ipynb",
      "provenance": [],
      "collapsed_sections": [
        "ta1KzuLFZs43",
        "NdxMrpOkaE4G",
        "0HHp8KZ3bFep",
        "1QNjJ0EEGOfE",
        "BSXie-lKbS0m",
        "KPPhcFlrZfbD",
        "E6MzM6LVCM0X"
      ],
      "authorship_tag": "ABX9TyNMYqQfvhU19ykNyGDqcg5C",
      "include_colab_link": true
    },
    "kernelspec": {
      "name": "python3",
      "display_name": "Python 3"
    },
    "language_info": {
      "name": "python"
    },
    "accelerator": "GPU",
    "widgets": {
      "application/vnd.jupyter.widget-state+json": {
        "f19493c4cf1348268f1ad00e82cd31e5": {
          "model_module": "@jupyter-widgets/controls",
          "model_name": "HBoxModel",
          "model_module_version": "1.5.0",
          "state": {
            "_view_name": "HBoxView",
            "_dom_classes": [],
            "_model_name": "HBoxModel",
            "_view_module": "@jupyter-widgets/controls",
            "_model_module_version": "1.5.0",
            "_view_count": null,
            "_view_module_version": "1.5.0",
            "box_style": "",
            "layout": "IPY_MODEL_1e863d5dbee44a0c8ebecb3be7b76290",
            "_model_module": "@jupyter-widgets/controls",
            "children": [
              "IPY_MODEL_58e26056c8b445e6a1fe3112b305c7e6",
              "IPY_MODEL_00f329d420624c548ac2f5427e494af9",
              "IPY_MODEL_b5837a09b2e64db2aedcef8dd7287b5e"
            ]
          }
        },
        "1e863d5dbee44a0c8ebecb3be7b76290": {
          "model_module": "@jupyter-widgets/base",
          "model_name": "LayoutModel",
          "model_module_version": "1.2.0",
          "state": {
            "_view_name": "LayoutView",
            "grid_template_rows": null,
            "right": null,
            "justify_content": null,
            "_view_module": "@jupyter-widgets/base",
            "overflow": null,
            "_model_module_version": "1.2.0",
            "_view_count": null,
            "flex_flow": null,
            "width": null,
            "min_width": null,
            "border": null,
            "align_items": null,
            "bottom": null,
            "_model_module": "@jupyter-widgets/base",
            "top": null,
            "grid_column": null,
            "overflow_y": null,
            "overflow_x": null,
            "grid_auto_flow": null,
            "grid_area": null,
            "grid_template_columns": null,
            "flex": null,
            "_model_name": "LayoutModel",
            "justify_items": null,
            "grid_row": null,
            "max_height": null,
            "align_content": null,
            "visibility": null,
            "align_self": null,
            "height": null,
            "min_height": null,
            "padding": null,
            "grid_auto_rows": null,
            "grid_gap": null,
            "max_width": null,
            "order": null,
            "_view_module_version": "1.2.0",
            "grid_template_areas": null,
            "object_position": null,
            "object_fit": null,
            "grid_auto_columns": null,
            "margin": null,
            "display": null,
            "left": null
          }
        },
        "58e26056c8b445e6a1fe3112b305c7e6": {
          "model_module": "@jupyter-widgets/controls",
          "model_name": "HTMLModel",
          "model_module_version": "1.5.0",
          "state": {
            "_view_name": "HTMLView",
            "style": "IPY_MODEL_3e36aa8602de4573911b89bc22388c64",
            "_dom_classes": [],
            "description": "",
            "_model_name": "HTMLModel",
            "placeholder": "​",
            "_view_module": "@jupyter-widgets/controls",
            "_model_module_version": "1.5.0",
            "value": "100%",
            "_view_count": null,
            "_view_module_version": "1.5.0",
            "description_tooltip": null,
            "_model_module": "@jupyter-widgets/controls",
            "layout": "IPY_MODEL_53e74abf2c2a463abcc13ee8f97edde1"
          }
        },
        "00f329d420624c548ac2f5427e494af9": {
          "model_module": "@jupyter-widgets/controls",
          "model_name": "FloatProgressModel",
          "model_module_version": "1.5.0",
          "state": {
            "_view_name": "ProgressView",
            "style": "IPY_MODEL_a3c17208bdc64926bf1c36d6c7ed2b2e",
            "_dom_classes": [],
            "description": "",
            "_model_name": "FloatProgressModel",
            "bar_style": "success",
            "max": 108949747,
            "_view_module": "@jupyter-widgets/controls",
            "_model_module_version": "1.5.0",
            "value": 108949747,
            "_view_count": null,
            "_view_module_version": "1.5.0",
            "orientation": "horizontal",
            "min": 0,
            "description_tooltip": null,
            "_model_module": "@jupyter-widgets/controls",
            "layout": "IPY_MODEL_ff1b96ab4e194d95bc02658c208f9f21"
          }
        },
        "b5837a09b2e64db2aedcef8dd7287b5e": {
          "model_module": "@jupyter-widgets/controls",
          "model_name": "HTMLModel",
          "model_module_version": "1.5.0",
          "state": {
            "_view_name": "HTMLView",
            "style": "IPY_MODEL_156c4e45d4d64b6da403b23d942528e9",
            "_dom_classes": [],
            "description": "",
            "_model_name": "HTMLModel",
            "placeholder": "​",
            "_view_module": "@jupyter-widgets/controls",
            "_model_module_version": "1.5.0",
            "value": " 104M/104M [00:01&lt;00:00, 60.0MB/s]",
            "_view_count": null,
            "_view_module_version": "1.5.0",
            "description_tooltip": null,
            "_model_module": "@jupyter-widgets/controls",
            "layout": "IPY_MODEL_c5902ad7934f447b9bd2050cc9b3e35f"
          }
        },
        "3e36aa8602de4573911b89bc22388c64": {
          "model_module": "@jupyter-widgets/controls",
          "model_name": "DescriptionStyleModel",
          "model_module_version": "1.5.0",
          "state": {
            "_view_name": "StyleView",
            "_model_name": "DescriptionStyleModel",
            "description_width": "",
            "_view_module": "@jupyter-widgets/base",
            "_model_module_version": "1.5.0",
            "_view_count": null,
            "_view_module_version": "1.2.0",
            "_model_module": "@jupyter-widgets/controls"
          }
        },
        "53e74abf2c2a463abcc13ee8f97edde1": {
          "model_module": "@jupyter-widgets/base",
          "model_name": "LayoutModel",
          "model_module_version": "1.2.0",
          "state": {
            "_view_name": "LayoutView",
            "grid_template_rows": null,
            "right": null,
            "justify_content": null,
            "_view_module": "@jupyter-widgets/base",
            "overflow": null,
            "_model_module_version": "1.2.0",
            "_view_count": null,
            "flex_flow": null,
            "width": null,
            "min_width": null,
            "border": null,
            "align_items": null,
            "bottom": null,
            "_model_module": "@jupyter-widgets/base",
            "top": null,
            "grid_column": null,
            "overflow_y": null,
            "overflow_x": null,
            "grid_auto_flow": null,
            "grid_area": null,
            "grid_template_columns": null,
            "flex": null,
            "_model_name": "LayoutModel",
            "justify_items": null,
            "grid_row": null,
            "max_height": null,
            "align_content": null,
            "visibility": null,
            "align_self": null,
            "height": null,
            "min_height": null,
            "padding": null,
            "grid_auto_rows": null,
            "grid_gap": null,
            "max_width": null,
            "order": null,
            "_view_module_version": "1.2.0",
            "grid_template_areas": null,
            "object_position": null,
            "object_fit": null,
            "grid_auto_columns": null,
            "margin": null,
            "display": null,
            "left": null
          }
        },
        "a3c17208bdc64926bf1c36d6c7ed2b2e": {
          "model_module": "@jupyter-widgets/controls",
          "model_name": "ProgressStyleModel",
          "model_module_version": "1.5.0",
          "state": {
            "_view_name": "StyleView",
            "_model_name": "ProgressStyleModel",
            "description_width": "",
            "_view_module": "@jupyter-widgets/base",
            "_model_module_version": "1.5.0",
            "_view_count": null,
            "_view_module_version": "1.2.0",
            "bar_color": null,
            "_model_module": "@jupyter-widgets/controls"
          }
        },
        "ff1b96ab4e194d95bc02658c208f9f21": {
          "model_module": "@jupyter-widgets/base",
          "model_name": "LayoutModel",
          "model_module_version": "1.2.0",
          "state": {
            "_view_name": "LayoutView",
            "grid_template_rows": null,
            "right": null,
            "justify_content": null,
            "_view_module": "@jupyter-widgets/base",
            "overflow": null,
            "_model_module_version": "1.2.0",
            "_view_count": null,
            "flex_flow": null,
            "width": null,
            "min_width": null,
            "border": null,
            "align_items": null,
            "bottom": null,
            "_model_module": "@jupyter-widgets/base",
            "top": null,
            "grid_column": null,
            "overflow_y": null,
            "overflow_x": null,
            "grid_auto_flow": null,
            "grid_area": null,
            "grid_template_columns": null,
            "flex": null,
            "_model_name": "LayoutModel",
            "justify_items": null,
            "grid_row": null,
            "max_height": null,
            "align_content": null,
            "visibility": null,
            "align_self": null,
            "height": null,
            "min_height": null,
            "padding": null,
            "grid_auto_rows": null,
            "grid_gap": null,
            "max_width": null,
            "order": null,
            "_view_module_version": "1.2.0",
            "grid_template_areas": null,
            "object_position": null,
            "object_fit": null,
            "grid_auto_columns": null,
            "margin": null,
            "display": null,
            "left": null
          }
        },
        "156c4e45d4d64b6da403b23d942528e9": {
          "model_module": "@jupyter-widgets/controls",
          "model_name": "DescriptionStyleModel",
          "model_module_version": "1.5.0",
          "state": {
            "_view_name": "StyleView",
            "_model_name": "DescriptionStyleModel",
            "description_width": "",
            "_view_module": "@jupyter-widgets/base",
            "_model_module_version": "1.5.0",
            "_view_count": null,
            "_view_module_version": "1.2.0",
            "_model_module": "@jupyter-widgets/controls"
          }
        },
        "c5902ad7934f447b9bd2050cc9b3e35f": {
          "model_module": "@jupyter-widgets/base",
          "model_name": "LayoutModel",
          "model_module_version": "1.2.0",
          "state": {
            "_view_name": "LayoutView",
            "grid_template_rows": null,
            "right": null,
            "justify_content": null,
            "_view_module": "@jupyter-widgets/base",
            "overflow": null,
            "_model_module_version": "1.2.0",
            "_view_count": null,
            "flex_flow": null,
            "width": null,
            "min_width": null,
            "border": null,
            "align_items": null,
            "bottom": null,
            "_model_module": "@jupyter-widgets/base",
            "top": null,
            "grid_column": null,
            "overflow_y": null,
            "overflow_x": null,
            "grid_auto_flow": null,
            "grid_area": null,
            "grid_template_columns": null,
            "flex": null,
            "_model_name": "LayoutModel",
            "justify_items": null,
            "grid_row": null,
            "max_height": null,
            "align_content": null,
            "visibility": null,
            "align_self": null,
            "height": null,
            "min_height": null,
            "padding": null,
            "grid_auto_rows": null,
            "grid_gap": null,
            "max_width": null,
            "order": null,
            "_view_module_version": "1.2.0",
            "grid_template_areas": null,
            "object_position": null,
            "object_fit": null,
            "grid_auto_columns": null,
            "margin": null,
            "display": null,
            "left": null
          }
        }
      }
    }
  },
  "cells": [
    {
      "cell_type": "markdown",
      "metadata": {
        "id": "view-in-github",
        "colab_type": "text"
      },
      "source": [
        "<a href=\"https://colab.research.google.com/github/nomnomnonono/Image-Completion/blob/main/GLCIC/calculate_fid.ipynb\" target=\"_parent\"><img src=\"https://colab.research.google.com/assets/colab-badge.svg\" alt=\"Open In Colab\"/></a>"
      ]
    },
    {
      "cell_type": "code",
      "source": [
        "!nvidia-smi"
      ],
      "metadata": {
        "colab": {
          "base_uri": "https://localhost:8080/"
        },
        "id": "ezxgYzD6ZwAB",
        "outputId": "5c231531-e98e-4552-df59-896f3155d4e5"
      },
      "execution_count": null,
      "outputs": [
        {
          "output_type": "stream",
          "name": "stdout",
          "text": [
            "Wed Dec 15 05:19:35 2021       \n",
            "+-----------------------------------------------------------------------------+\n",
            "| NVIDIA-SMI 495.44       Driver Version: 460.32.03    CUDA Version: 11.2     |\n",
            "|-------------------------------+----------------------+----------------------+\n",
            "| GPU  Name        Persistence-M| Bus-Id        Disp.A | Volatile Uncorr. ECC |\n",
            "| Fan  Temp  Perf  Pwr:Usage/Cap|         Memory-Usage | GPU-Util  Compute M. |\n",
            "|                               |                      |               MIG M. |\n",
            "|===============================+======================+======================|\n",
            "|   0  Tesla P100-PCIE...  Off  | 00000000:00:04.0 Off |                    0 |\n",
            "| N/A   33C    P0    26W / 250W |      0MiB / 16280MiB |      0%      Default |\n",
            "|                               |                      |                  N/A |\n",
            "+-------------------------------+----------------------+----------------------+\n",
            "                                                                               \n",
            "+-----------------------------------------------------------------------------+\n",
            "| Processes:                                                                  |\n",
            "|  GPU   GI   CI        PID   Type   Process name                  GPU Memory |\n",
            "|        ID   ID                                                   Usage      |\n",
            "|=============================================================================|\n",
            "|  No running processes found                                                 |\n",
            "+-----------------------------------------------------------------------------+\n"
          ]
        }
      ]
    },
    {
      "cell_type": "code",
      "source": [
        "from google.colab import drive\n",
        "drive.mount(\"/content/drive\")"
      ],
      "metadata": {
        "colab": {
          "base_uri": "https://localhost:8080/"
        },
        "id": "GZzLILAqZv39",
        "outputId": "a9289167-fca5-4066-8332-3ef148debb09"
      },
      "execution_count": null,
      "outputs": [
        {
          "output_type": "stream",
          "name": "stdout",
          "text": [
            "Mounted at /content/drive\n"
          ]
        }
      ]
    },
    {
      "cell_type": "markdown",
      "source": [
        "## ライブラリの読み込み"
      ],
      "metadata": {
        "id": "ta1KzuLFZs43"
      }
    },
    {
      "cell_type": "code",
      "source": [
        "import sys\n",
        "sys.path.append(\"/content/drive/MyDrive/Colab Notebooks/experiment/final\")"
      ],
      "metadata": {
        "id": "WNvXvOjJZ9tx"
      },
      "execution_count": null,
      "outputs": []
    },
    {
      "cell_type": "code",
      "execution_count": null,
      "metadata": {
        "id": "ivE57x1l3q4o"
      },
      "outputs": [],
      "source": [
        "import torch\n",
        "from torch.utils.data import DataLoader\n",
        "from torchvision import models\n",
        "import torchvision.transforms as transforms\n",
        "from torchvision.utils import save_image\n",
        "\n",
        "import json\n",
        "import torchsummary\n",
        "import numpy as np\n",
        "import os\n",
        "\n",
        "from datasets import ImageDataset\n",
        "from fid import fid_torch\n",
        "from models import CompletionNetwork\n",
        "from utils import sample_random_batch, generate_mask, define_hole_area, get_completion_image"
      ]
    },
    {
      "cell_type": "markdown",
      "source": [
        "## 初期設定"
      ],
      "metadata": {
        "id": "NdxMrpOkaE4G"
      }
    },
    {
      "cell_type": "code",
      "source": [
        "data_dir = \"img_align_celeba\"\n",
        "result_dir = \"/content/drive/MyDrive/Colab Notebooks/experiment/final/result\"\n",
        "device = torch.device('cuda')\n",
        "bsize = 32\n",
        "cn_input_size = 120\n",
        "resize = 299\n",
        "\n",
        "cn_path = os.path.join(result_dir, 'phase_3', 'cn_step400000.pth')\n",
        "model_cn = CompletionNetwork()\n",
        "model_cn.load_state_dict(torch.load(cn_path, map_location='cpu'))"
      ],
      "metadata": {
        "colab": {
          "base_uri": "https://localhost:8080/"
        },
        "id": "ccAmoLx0aGs7",
        "outputId": "1cb9bab3-b12f-4b70-8adf-7e749a804edd"
      },
      "execution_count": null,
      "outputs": [
        {
          "output_type": "execute_result",
          "data": {
            "text/plain": [
              "<All keys matched successfully>"
            ]
          },
          "metadata": {},
          "execution_count": 5
        }
      ]
    },
    {
      "cell_type": "markdown",
      "source": [
        "## 画像の読み込み"
      ],
      "metadata": {
        "id": "0HHp8KZ3bFep"
      }
    },
    {
      "cell_type": "code",
      "source": [
        "!mkdir train test"
      ],
      "metadata": {
        "id": "a63XB_ThbDlX"
      },
      "execution_count": null,
      "outputs": []
    },
    {
      "cell_type": "code",
      "source": [
        "!cp \"/content/drive/MyDrive/Colab Notebooks/experiment/final/img_align_celeba.zip\" \".\"\n",
        "!unzip -q img_align_celeba.zip\n",
        "!mv img_align_celeba/2* test/"
      ],
      "metadata": {
        "id": "A_HwO-qabLJi"
      },
      "execution_count": null,
      "outputs": []
    },
    {
      "cell_type": "code",
      "source": [
        "!ls \"img_align_celeba\" -1 | wc -l\n",
        "!ls \"test\" -1 | wc -l"
      ],
      "metadata": {
        "colab": {
          "base_uri": "https://localhost:8080/"
        },
        "id": "Xu5phbLPbLLs",
        "outputId": "c4d87ddd-9360-4c08-bb6e-8e20b503cced"
      },
      "execution_count": null,
      "outputs": [
        {
          "output_type": "stream",
          "name": "stdout",
          "text": [
            "199999\n",
            "2600\n"
          ]
        }
      ]
    },
    {
      "cell_type": "markdown",
      "source": [
        "## mpvの読み込み"
      ],
      "metadata": {
        "id": "1QNjJ0EEGOfE"
      }
    },
    {
      "cell_type": "code",
      "source": [
        "mpv_json = open(os.path.join(result_dir, 'config.json'), 'r')\n",
        "mpv_data = json.load(mpv_json)\n",
        "mpv = mpv_data['mpv']\n",
        "mpv = np.array(mpv)"
      ],
      "metadata": {
        "id": "V-A2CfmIGQae"
      },
      "execution_count": null,
      "outputs": []
    },
    {
      "cell_type": "code",
      "source": [
        "mpv = torch.tensor(mpv.reshape(1, 3, 1, 1), dtype=torch.float32).to(device)"
      ],
      "metadata": {
        "id": "HAdKeOz4GRgI"
      },
      "execution_count": null,
      "outputs": []
    },
    {
      "cell_type": "markdown",
      "source": [
        "## データセット"
      ],
      "metadata": {
        "id": "BSXie-lKbS0m"
      }
    },
    {
      "cell_type": "code",
      "source": [
        "transform = transforms.Compose([\n",
        "        transforms.Resize(cn_input_size),\n",
        "        transforms.RandomCrop((cn_input_size, cn_input_size)),\n",
        "        transforms.ToTensor(),\n",
        "])\n",
        "\n",
        "train = ImageDataset('img_align_celeba', transform)\n",
        "train_loader = DataLoader(train, batch_size=bsize, shuffle=True)\n",
        "test = ImageDataset('test', transform)"
      ],
      "metadata": {
        "id": "X6Vnrgp0bS-7"
      },
      "execution_count": null,
      "outputs": []
    },
    {
      "cell_type": "markdown",
      "source": [
        "## Inception v3の読み込み"
      ],
      "metadata": {
        "id": "KPPhcFlrZfbD"
      }
    },
    {
      "cell_type": "code",
      "source": [
        "model = models.inception_v3(pretrained=True).to(device)"
      ],
      "metadata": {
        "id": "D52ccllQXhER",
        "colab": {
          "base_uri": "https://localhost:8080/",
          "referenced_widgets": [
            "f19493c4cf1348268f1ad00e82cd31e5",
            "1e863d5dbee44a0c8ebecb3be7b76290",
            "58e26056c8b445e6a1fe3112b305c7e6",
            "00f329d420624c548ac2f5427e494af9",
            "b5837a09b2e64db2aedcef8dd7287b5e",
            "3e36aa8602de4573911b89bc22388c64",
            "53e74abf2c2a463abcc13ee8f97edde1",
            "a3c17208bdc64926bf1c36d6c7ed2b2e",
            "ff1b96ab4e194d95bc02658c208f9f21",
            "156c4e45d4d64b6da403b23d942528e9",
            "c5902ad7934f447b9bd2050cc9b3e35f"
          ]
        },
        "outputId": "26dd395a-569c-4f20-a4a0-199038242fd2"
      },
      "execution_count": null,
      "outputs": [
        {
          "output_type": "stream",
          "name": "stderr",
          "text": [
            "Downloading: \"https://download.pytorch.org/models/inception_v3_google-0cc3c7bd.pth\" to /root/.cache/torch/hub/checkpoints/inception_v3_google-0cc3c7bd.pth\n"
          ]
        },
        {
          "output_type": "display_data",
          "data": {
            "application/vnd.jupyter.widget-view+json": {
              "model_id": "f19493c4cf1348268f1ad00e82cd31e5",
              "version_minor": 0,
              "version_major": 2
            },
            "text/plain": [
              "  0%|          | 0.00/104M [00:00<?, ?B/s]"
            ]
          },
          "metadata": {}
        }
      ]
    },
    {
      "cell_type": "code",
      "source": [
        "model.dropout = torch.nn.Identity()\n",
        "model.fc = torch.nn.Identity()"
      ],
      "metadata": {
        "id": "8YCfEb7FZNpL"
      },
      "execution_count": null,
      "outputs": []
    },
    {
      "cell_type": "code",
      "source": [
        "torchsummary.summary(model, (3, 299, 299))"
      ],
      "metadata": {
        "colab": {
          "base_uri": "https://localhost:8080/"
        },
        "id": "UyIXGBdiXtsU",
        "outputId": "394ee76c-6c14-48a5-e481-622e18097f3c"
      },
      "execution_count": null,
      "outputs": [
        {
          "output_type": "stream",
          "name": "stdout",
          "text": [
            "----------------------------------------------------------------\n",
            "        Layer (type)               Output Shape         Param #\n",
            "================================================================\n",
            "            Conv2d-1         [-1, 32, 149, 149]             864\n",
            "       BatchNorm2d-2         [-1, 32, 149, 149]              64\n",
            "       BasicConv2d-3         [-1, 32, 149, 149]               0\n",
            "            Conv2d-4         [-1, 32, 147, 147]           9,216\n",
            "       BatchNorm2d-5         [-1, 32, 147, 147]              64\n",
            "       BasicConv2d-6         [-1, 32, 147, 147]               0\n",
            "            Conv2d-7         [-1, 64, 147, 147]          18,432\n",
            "       BatchNorm2d-8         [-1, 64, 147, 147]             128\n",
            "       BasicConv2d-9         [-1, 64, 147, 147]               0\n",
            "        MaxPool2d-10           [-1, 64, 73, 73]               0\n",
            "           Conv2d-11           [-1, 80, 73, 73]           5,120\n",
            "      BatchNorm2d-12           [-1, 80, 73, 73]             160\n",
            "      BasicConv2d-13           [-1, 80, 73, 73]               0\n",
            "           Conv2d-14          [-1, 192, 71, 71]         138,240\n",
            "      BatchNorm2d-15          [-1, 192, 71, 71]             384\n",
            "      BasicConv2d-16          [-1, 192, 71, 71]               0\n",
            "        MaxPool2d-17          [-1, 192, 35, 35]               0\n",
            "           Conv2d-18           [-1, 64, 35, 35]          12,288\n",
            "      BatchNorm2d-19           [-1, 64, 35, 35]             128\n",
            "      BasicConv2d-20           [-1, 64, 35, 35]               0\n",
            "           Conv2d-21           [-1, 48, 35, 35]           9,216\n",
            "      BatchNorm2d-22           [-1, 48, 35, 35]              96\n",
            "      BasicConv2d-23           [-1, 48, 35, 35]               0\n",
            "           Conv2d-24           [-1, 64, 35, 35]          76,800\n",
            "      BatchNorm2d-25           [-1, 64, 35, 35]             128\n",
            "      BasicConv2d-26           [-1, 64, 35, 35]               0\n",
            "           Conv2d-27           [-1, 64, 35, 35]          12,288\n",
            "      BatchNorm2d-28           [-1, 64, 35, 35]             128\n",
            "      BasicConv2d-29           [-1, 64, 35, 35]               0\n",
            "           Conv2d-30           [-1, 96, 35, 35]          55,296\n",
            "      BatchNorm2d-31           [-1, 96, 35, 35]             192\n",
            "      BasicConv2d-32           [-1, 96, 35, 35]               0\n",
            "           Conv2d-33           [-1, 96, 35, 35]          82,944\n",
            "      BatchNorm2d-34           [-1, 96, 35, 35]             192\n",
            "      BasicConv2d-35           [-1, 96, 35, 35]               0\n",
            "           Conv2d-36           [-1, 32, 35, 35]           6,144\n",
            "      BatchNorm2d-37           [-1, 32, 35, 35]              64\n",
            "      BasicConv2d-38           [-1, 32, 35, 35]               0\n",
            "       InceptionA-39          [-1, 256, 35, 35]               0\n",
            "           Conv2d-40           [-1, 64, 35, 35]          16,384\n",
            "      BatchNorm2d-41           [-1, 64, 35, 35]             128\n",
            "      BasicConv2d-42           [-1, 64, 35, 35]               0\n",
            "           Conv2d-43           [-1, 48, 35, 35]          12,288\n",
            "      BatchNorm2d-44           [-1, 48, 35, 35]              96\n",
            "      BasicConv2d-45           [-1, 48, 35, 35]               0\n",
            "           Conv2d-46           [-1, 64, 35, 35]          76,800\n",
            "      BatchNorm2d-47           [-1, 64, 35, 35]             128\n",
            "      BasicConv2d-48           [-1, 64, 35, 35]               0\n",
            "           Conv2d-49           [-1, 64, 35, 35]          16,384\n",
            "      BatchNorm2d-50           [-1, 64, 35, 35]             128\n",
            "      BasicConv2d-51           [-1, 64, 35, 35]               0\n",
            "           Conv2d-52           [-1, 96, 35, 35]          55,296\n",
            "      BatchNorm2d-53           [-1, 96, 35, 35]             192\n",
            "      BasicConv2d-54           [-1, 96, 35, 35]               0\n",
            "           Conv2d-55           [-1, 96, 35, 35]          82,944\n",
            "      BatchNorm2d-56           [-1, 96, 35, 35]             192\n",
            "      BasicConv2d-57           [-1, 96, 35, 35]               0\n",
            "           Conv2d-58           [-1, 64, 35, 35]          16,384\n",
            "      BatchNorm2d-59           [-1, 64, 35, 35]             128\n",
            "      BasicConv2d-60           [-1, 64, 35, 35]               0\n",
            "       InceptionA-61          [-1, 288, 35, 35]               0\n",
            "           Conv2d-62           [-1, 64, 35, 35]          18,432\n",
            "      BatchNorm2d-63           [-1, 64, 35, 35]             128\n",
            "      BasicConv2d-64           [-1, 64, 35, 35]               0\n",
            "           Conv2d-65           [-1, 48, 35, 35]          13,824\n",
            "      BatchNorm2d-66           [-1, 48, 35, 35]              96\n",
            "      BasicConv2d-67           [-1, 48, 35, 35]               0\n",
            "           Conv2d-68           [-1, 64, 35, 35]          76,800\n",
            "      BatchNorm2d-69           [-1, 64, 35, 35]             128\n",
            "      BasicConv2d-70           [-1, 64, 35, 35]               0\n",
            "           Conv2d-71           [-1, 64, 35, 35]          18,432\n",
            "      BatchNorm2d-72           [-1, 64, 35, 35]             128\n",
            "      BasicConv2d-73           [-1, 64, 35, 35]               0\n",
            "           Conv2d-74           [-1, 96, 35, 35]          55,296\n",
            "      BatchNorm2d-75           [-1, 96, 35, 35]             192\n",
            "      BasicConv2d-76           [-1, 96, 35, 35]               0\n",
            "           Conv2d-77           [-1, 96, 35, 35]          82,944\n",
            "      BatchNorm2d-78           [-1, 96, 35, 35]             192\n",
            "      BasicConv2d-79           [-1, 96, 35, 35]               0\n",
            "           Conv2d-80           [-1, 64, 35, 35]          18,432\n",
            "      BatchNorm2d-81           [-1, 64, 35, 35]             128\n",
            "      BasicConv2d-82           [-1, 64, 35, 35]               0\n",
            "       InceptionA-83          [-1, 288, 35, 35]               0\n",
            "           Conv2d-84          [-1, 384, 17, 17]         995,328\n",
            "      BatchNorm2d-85          [-1, 384, 17, 17]             768\n",
            "      BasicConv2d-86          [-1, 384, 17, 17]               0\n",
            "           Conv2d-87           [-1, 64, 35, 35]          18,432\n",
            "      BatchNorm2d-88           [-1, 64, 35, 35]             128\n",
            "      BasicConv2d-89           [-1, 64, 35, 35]               0\n",
            "           Conv2d-90           [-1, 96, 35, 35]          55,296\n",
            "      BatchNorm2d-91           [-1, 96, 35, 35]             192\n",
            "      BasicConv2d-92           [-1, 96, 35, 35]               0\n",
            "           Conv2d-93           [-1, 96, 17, 17]          82,944\n",
            "      BatchNorm2d-94           [-1, 96, 17, 17]             192\n",
            "      BasicConv2d-95           [-1, 96, 17, 17]               0\n",
            "       InceptionB-96          [-1, 768, 17, 17]               0\n",
            "           Conv2d-97          [-1, 192, 17, 17]         147,456\n",
            "      BatchNorm2d-98          [-1, 192, 17, 17]             384\n",
            "      BasicConv2d-99          [-1, 192, 17, 17]               0\n",
            "          Conv2d-100          [-1, 128, 17, 17]          98,304\n",
            "     BatchNorm2d-101          [-1, 128, 17, 17]             256\n",
            "     BasicConv2d-102          [-1, 128, 17, 17]               0\n",
            "          Conv2d-103          [-1, 128, 17, 17]         114,688\n",
            "     BatchNorm2d-104          [-1, 128, 17, 17]             256\n",
            "     BasicConv2d-105          [-1, 128, 17, 17]               0\n",
            "          Conv2d-106          [-1, 192, 17, 17]         172,032\n",
            "     BatchNorm2d-107          [-1, 192, 17, 17]             384\n",
            "     BasicConv2d-108          [-1, 192, 17, 17]               0\n",
            "          Conv2d-109          [-1, 128, 17, 17]          98,304\n",
            "     BatchNorm2d-110          [-1, 128, 17, 17]             256\n",
            "     BasicConv2d-111          [-1, 128, 17, 17]               0\n",
            "          Conv2d-112          [-1, 128, 17, 17]         114,688\n",
            "     BatchNorm2d-113          [-1, 128, 17, 17]             256\n",
            "     BasicConv2d-114          [-1, 128, 17, 17]               0\n",
            "          Conv2d-115          [-1, 128, 17, 17]         114,688\n",
            "     BatchNorm2d-116          [-1, 128, 17, 17]             256\n",
            "     BasicConv2d-117          [-1, 128, 17, 17]               0\n",
            "          Conv2d-118          [-1, 128, 17, 17]         114,688\n",
            "     BatchNorm2d-119          [-1, 128, 17, 17]             256\n",
            "     BasicConv2d-120          [-1, 128, 17, 17]               0\n",
            "          Conv2d-121          [-1, 192, 17, 17]         172,032\n",
            "     BatchNorm2d-122          [-1, 192, 17, 17]             384\n",
            "     BasicConv2d-123          [-1, 192, 17, 17]               0\n",
            "          Conv2d-124          [-1, 192, 17, 17]         147,456\n",
            "     BatchNorm2d-125          [-1, 192, 17, 17]             384\n",
            "     BasicConv2d-126          [-1, 192, 17, 17]               0\n",
            "      InceptionC-127          [-1, 768, 17, 17]               0\n",
            "          Conv2d-128          [-1, 192, 17, 17]         147,456\n",
            "     BatchNorm2d-129          [-1, 192, 17, 17]             384\n",
            "     BasicConv2d-130          [-1, 192, 17, 17]               0\n",
            "          Conv2d-131          [-1, 160, 17, 17]         122,880\n",
            "     BatchNorm2d-132          [-1, 160, 17, 17]             320\n",
            "     BasicConv2d-133          [-1, 160, 17, 17]               0\n",
            "          Conv2d-134          [-1, 160, 17, 17]         179,200\n",
            "     BatchNorm2d-135          [-1, 160, 17, 17]             320\n",
            "     BasicConv2d-136          [-1, 160, 17, 17]               0\n",
            "          Conv2d-137          [-1, 192, 17, 17]         215,040\n",
            "     BatchNorm2d-138          [-1, 192, 17, 17]             384\n",
            "     BasicConv2d-139          [-1, 192, 17, 17]               0\n",
            "          Conv2d-140          [-1, 160, 17, 17]         122,880\n",
            "     BatchNorm2d-141          [-1, 160, 17, 17]             320\n",
            "     BasicConv2d-142          [-1, 160, 17, 17]               0\n",
            "          Conv2d-143          [-1, 160, 17, 17]         179,200\n",
            "     BatchNorm2d-144          [-1, 160, 17, 17]             320\n",
            "     BasicConv2d-145          [-1, 160, 17, 17]               0\n",
            "          Conv2d-146          [-1, 160, 17, 17]         179,200\n",
            "     BatchNorm2d-147          [-1, 160, 17, 17]             320\n",
            "     BasicConv2d-148          [-1, 160, 17, 17]               0\n",
            "          Conv2d-149          [-1, 160, 17, 17]         179,200\n",
            "     BatchNorm2d-150          [-1, 160, 17, 17]             320\n",
            "     BasicConv2d-151          [-1, 160, 17, 17]               0\n",
            "          Conv2d-152          [-1, 192, 17, 17]         215,040\n",
            "     BatchNorm2d-153          [-1, 192, 17, 17]             384\n",
            "     BasicConv2d-154          [-1, 192, 17, 17]               0\n",
            "          Conv2d-155          [-1, 192, 17, 17]         147,456\n",
            "     BatchNorm2d-156          [-1, 192, 17, 17]             384\n",
            "     BasicConv2d-157          [-1, 192, 17, 17]               0\n",
            "      InceptionC-158          [-1, 768, 17, 17]               0\n",
            "          Conv2d-159          [-1, 192, 17, 17]         147,456\n",
            "     BatchNorm2d-160          [-1, 192, 17, 17]             384\n",
            "     BasicConv2d-161          [-1, 192, 17, 17]               0\n",
            "          Conv2d-162          [-1, 160, 17, 17]         122,880\n",
            "     BatchNorm2d-163          [-1, 160, 17, 17]             320\n",
            "     BasicConv2d-164          [-1, 160, 17, 17]               0\n",
            "          Conv2d-165          [-1, 160, 17, 17]         179,200\n",
            "     BatchNorm2d-166          [-1, 160, 17, 17]             320\n",
            "     BasicConv2d-167          [-1, 160, 17, 17]               0\n",
            "          Conv2d-168          [-1, 192, 17, 17]         215,040\n",
            "     BatchNorm2d-169          [-1, 192, 17, 17]             384\n",
            "     BasicConv2d-170          [-1, 192, 17, 17]               0\n",
            "          Conv2d-171          [-1, 160, 17, 17]         122,880\n",
            "     BatchNorm2d-172          [-1, 160, 17, 17]             320\n",
            "     BasicConv2d-173          [-1, 160, 17, 17]               0\n",
            "          Conv2d-174          [-1, 160, 17, 17]         179,200\n",
            "     BatchNorm2d-175          [-1, 160, 17, 17]             320\n",
            "     BasicConv2d-176          [-1, 160, 17, 17]               0\n",
            "          Conv2d-177          [-1, 160, 17, 17]         179,200\n",
            "     BatchNorm2d-178          [-1, 160, 17, 17]             320\n",
            "     BasicConv2d-179          [-1, 160, 17, 17]               0\n",
            "          Conv2d-180          [-1, 160, 17, 17]         179,200\n",
            "     BatchNorm2d-181          [-1, 160, 17, 17]             320\n",
            "     BasicConv2d-182          [-1, 160, 17, 17]               0\n",
            "          Conv2d-183          [-1, 192, 17, 17]         215,040\n",
            "     BatchNorm2d-184          [-1, 192, 17, 17]             384\n",
            "     BasicConv2d-185          [-1, 192, 17, 17]               0\n",
            "          Conv2d-186          [-1, 192, 17, 17]         147,456\n",
            "     BatchNorm2d-187          [-1, 192, 17, 17]             384\n",
            "     BasicConv2d-188          [-1, 192, 17, 17]               0\n",
            "      InceptionC-189          [-1, 768, 17, 17]               0\n",
            "          Conv2d-190          [-1, 192, 17, 17]         147,456\n",
            "     BatchNorm2d-191          [-1, 192, 17, 17]             384\n",
            "     BasicConv2d-192          [-1, 192, 17, 17]               0\n",
            "          Conv2d-193          [-1, 192, 17, 17]         147,456\n",
            "     BatchNorm2d-194          [-1, 192, 17, 17]             384\n",
            "     BasicConv2d-195          [-1, 192, 17, 17]               0\n",
            "          Conv2d-196          [-1, 192, 17, 17]         258,048\n",
            "     BatchNorm2d-197          [-1, 192, 17, 17]             384\n",
            "     BasicConv2d-198          [-1, 192, 17, 17]               0\n",
            "          Conv2d-199          [-1, 192, 17, 17]         258,048\n",
            "     BatchNorm2d-200          [-1, 192, 17, 17]             384\n",
            "     BasicConv2d-201          [-1, 192, 17, 17]               0\n",
            "          Conv2d-202          [-1, 192, 17, 17]         147,456\n",
            "     BatchNorm2d-203          [-1, 192, 17, 17]             384\n",
            "     BasicConv2d-204          [-1, 192, 17, 17]               0\n",
            "          Conv2d-205          [-1, 192, 17, 17]         258,048\n",
            "     BatchNorm2d-206          [-1, 192, 17, 17]             384\n",
            "     BasicConv2d-207          [-1, 192, 17, 17]               0\n",
            "          Conv2d-208          [-1, 192, 17, 17]         258,048\n",
            "     BatchNorm2d-209          [-1, 192, 17, 17]             384\n",
            "     BasicConv2d-210          [-1, 192, 17, 17]               0\n",
            "          Conv2d-211          [-1, 192, 17, 17]         258,048\n",
            "     BatchNorm2d-212          [-1, 192, 17, 17]             384\n",
            "     BasicConv2d-213          [-1, 192, 17, 17]               0\n",
            "          Conv2d-214          [-1, 192, 17, 17]         258,048\n",
            "     BatchNorm2d-215          [-1, 192, 17, 17]             384\n",
            "     BasicConv2d-216          [-1, 192, 17, 17]               0\n",
            "          Conv2d-217          [-1, 192, 17, 17]         147,456\n",
            "     BatchNorm2d-218          [-1, 192, 17, 17]             384\n",
            "     BasicConv2d-219          [-1, 192, 17, 17]               0\n",
            "      InceptionC-220          [-1, 768, 17, 17]               0\n",
            "          Conv2d-221            [-1, 128, 5, 5]          98,304\n",
            "     BatchNorm2d-222            [-1, 128, 5, 5]             256\n",
            "     BasicConv2d-223            [-1, 128, 5, 5]               0\n",
            "          Conv2d-224            [-1, 768, 1, 1]       2,457,600\n",
            "     BatchNorm2d-225            [-1, 768, 1, 1]           1,536\n",
            "     BasicConv2d-226            [-1, 768, 1, 1]               0\n",
            "          Linear-227                 [-1, 1000]         769,000\n",
            "    InceptionAux-228                 [-1, 1000]               0\n",
            "          Conv2d-229          [-1, 192, 17, 17]         147,456\n",
            "     BatchNorm2d-230          [-1, 192, 17, 17]             384\n",
            "     BasicConv2d-231          [-1, 192, 17, 17]               0\n",
            "          Conv2d-232            [-1, 320, 8, 8]         552,960\n",
            "     BatchNorm2d-233            [-1, 320, 8, 8]             640\n",
            "     BasicConv2d-234            [-1, 320, 8, 8]               0\n",
            "          Conv2d-235          [-1, 192, 17, 17]         147,456\n",
            "     BatchNorm2d-236          [-1, 192, 17, 17]             384\n",
            "     BasicConv2d-237          [-1, 192, 17, 17]               0\n",
            "          Conv2d-238          [-1, 192, 17, 17]         258,048\n",
            "     BatchNorm2d-239          [-1, 192, 17, 17]             384\n",
            "     BasicConv2d-240          [-1, 192, 17, 17]               0\n",
            "          Conv2d-241          [-1, 192, 17, 17]         258,048\n",
            "     BatchNorm2d-242          [-1, 192, 17, 17]             384\n",
            "     BasicConv2d-243          [-1, 192, 17, 17]               0\n",
            "          Conv2d-244            [-1, 192, 8, 8]         331,776\n",
            "     BatchNorm2d-245            [-1, 192, 8, 8]             384\n",
            "     BasicConv2d-246            [-1, 192, 8, 8]               0\n",
            "      InceptionD-247           [-1, 1280, 8, 8]               0\n",
            "          Conv2d-248            [-1, 320, 8, 8]         409,600\n",
            "     BatchNorm2d-249            [-1, 320, 8, 8]             640\n",
            "     BasicConv2d-250            [-1, 320, 8, 8]               0\n",
            "          Conv2d-251            [-1, 384, 8, 8]         491,520\n",
            "     BatchNorm2d-252            [-1, 384, 8, 8]             768\n",
            "     BasicConv2d-253            [-1, 384, 8, 8]               0\n",
            "          Conv2d-254            [-1, 384, 8, 8]         442,368\n",
            "     BatchNorm2d-255            [-1, 384, 8, 8]             768\n",
            "     BasicConv2d-256            [-1, 384, 8, 8]               0\n",
            "          Conv2d-257            [-1, 384, 8, 8]         442,368\n",
            "     BatchNorm2d-258            [-1, 384, 8, 8]             768\n",
            "     BasicConv2d-259            [-1, 384, 8, 8]               0\n",
            "          Conv2d-260            [-1, 448, 8, 8]         573,440\n",
            "     BatchNorm2d-261            [-1, 448, 8, 8]             896\n",
            "     BasicConv2d-262            [-1, 448, 8, 8]               0\n",
            "          Conv2d-263            [-1, 384, 8, 8]       1,548,288\n",
            "     BatchNorm2d-264            [-1, 384, 8, 8]             768\n",
            "     BasicConv2d-265            [-1, 384, 8, 8]               0\n",
            "          Conv2d-266            [-1, 384, 8, 8]         442,368\n",
            "     BatchNorm2d-267            [-1, 384, 8, 8]             768\n",
            "     BasicConv2d-268            [-1, 384, 8, 8]               0\n",
            "          Conv2d-269            [-1, 384, 8, 8]         442,368\n",
            "     BatchNorm2d-270            [-1, 384, 8, 8]             768\n",
            "     BasicConv2d-271            [-1, 384, 8, 8]               0\n",
            "          Conv2d-272            [-1, 192, 8, 8]         245,760\n",
            "     BatchNorm2d-273            [-1, 192, 8, 8]             384\n",
            "     BasicConv2d-274            [-1, 192, 8, 8]               0\n",
            "      InceptionE-275           [-1, 2048, 8, 8]               0\n",
            "          Conv2d-276            [-1, 320, 8, 8]         655,360\n",
            "     BatchNorm2d-277            [-1, 320, 8, 8]             640\n",
            "     BasicConv2d-278            [-1, 320, 8, 8]               0\n",
            "          Conv2d-279            [-1, 384, 8, 8]         786,432\n",
            "     BatchNorm2d-280            [-1, 384, 8, 8]             768\n",
            "     BasicConv2d-281            [-1, 384, 8, 8]               0\n",
            "          Conv2d-282            [-1, 384, 8, 8]         442,368\n",
            "     BatchNorm2d-283            [-1, 384, 8, 8]             768\n",
            "     BasicConv2d-284            [-1, 384, 8, 8]               0\n",
            "          Conv2d-285            [-1, 384, 8, 8]         442,368\n",
            "     BatchNorm2d-286            [-1, 384, 8, 8]             768\n",
            "     BasicConv2d-287            [-1, 384, 8, 8]               0\n",
            "          Conv2d-288            [-1, 448, 8, 8]         917,504\n",
            "     BatchNorm2d-289            [-1, 448, 8, 8]             896\n",
            "     BasicConv2d-290            [-1, 448, 8, 8]               0\n",
            "          Conv2d-291            [-1, 384, 8, 8]       1,548,288\n",
            "     BatchNorm2d-292            [-1, 384, 8, 8]             768\n",
            "     BasicConv2d-293            [-1, 384, 8, 8]               0\n",
            "          Conv2d-294            [-1, 384, 8, 8]         442,368\n",
            "     BatchNorm2d-295            [-1, 384, 8, 8]             768\n",
            "     BasicConv2d-296            [-1, 384, 8, 8]               0\n",
            "          Conv2d-297            [-1, 384, 8, 8]         442,368\n",
            "     BatchNorm2d-298            [-1, 384, 8, 8]             768\n",
            "     BasicConv2d-299            [-1, 384, 8, 8]               0\n",
            "          Conv2d-300            [-1, 192, 8, 8]         393,216\n",
            "     BatchNorm2d-301            [-1, 192, 8, 8]             384\n",
            "     BasicConv2d-302            [-1, 192, 8, 8]               0\n",
            "      InceptionE-303           [-1, 2048, 8, 8]               0\n",
            "AdaptiveAvgPool2d-304           [-1, 2048, 1, 1]               0\n",
            "        Identity-305           [-1, 2048, 1, 1]               0\n",
            "        Identity-306                 [-1, 2048]               0\n",
            "================================================================\n",
            "Total params: 25,112,264\n",
            "Trainable params: 25,112,264\n",
            "Non-trainable params: 0\n",
            "----------------------------------------------------------------\n",
            "Input size (MB): 1.02\n",
            "Forward/backward pass size (MB): 228.67\n",
            "Params size (MB): 95.80\n",
            "Estimated Total Size (MB): 325.49\n",
            "----------------------------------------------------------------\n"
          ]
        }
      ]
    },
    {
      "cell_type": "code",
      "source": [
        "model = model.eval()"
      ],
      "metadata": {
        "id": "69uOOLdldtOu"
      },
      "execution_count": null,
      "outputs": []
    },
    {
      "cell_type": "markdown",
      "source": [
        "## CompletionNetworkの読み込み"
      ],
      "metadata": {
        "id": "E6MzM6LVCM0X"
      }
    },
    {
      "cell_type": "code",
      "source": [
        "model_cn = CompletionNetwork().to(device)\n",
        "model_cn.load_state_dict(torch.load(cn_path, map_location='cpu'))\n",
        "model_cn.eval()"
      ],
      "metadata": {
        "colab": {
          "base_uri": "https://localhost:8080/"
        },
        "id": "2jx9MWp4CNki",
        "outputId": "e1ebbf45-9b57-40f2-d449-59ae84f56f6e"
      },
      "execution_count": null,
      "outputs": [
        {
          "output_type": "execute_result",
          "data": {
            "text/plain": [
              "CompletionNetwork(\n",
              "  (conv1): Conv2d(4, 64, kernel_size=(5, 5), stride=(1, 1), padding=(2, 2))\n",
              "  (bn1): BatchNorm2d(64, eps=1e-05, momentum=0.1, affine=True, track_running_stats=True)\n",
              "  (act1): ReLU()\n",
              "  (conv2): Conv2d(64, 128, kernel_size=(3, 3), stride=(2, 2), padding=(1, 1))\n",
              "  (bn2): BatchNorm2d(128, eps=1e-05, momentum=0.1, affine=True, track_running_stats=True)\n",
              "  (act2): ReLU()\n",
              "  (conv3): Conv2d(128, 128, kernel_size=(3, 3), stride=(1, 1), padding=(1, 1))\n",
              "  (bn3): BatchNorm2d(128, eps=1e-05, momentum=0.1, affine=True, track_running_stats=True)\n",
              "  (act3): ReLU()\n",
              "  (conv4): Conv2d(128, 256, kernel_size=(3, 3), stride=(2, 2), padding=(1, 1))\n",
              "  (bn4): BatchNorm2d(256, eps=1e-05, momentum=0.1, affine=True, track_running_stats=True)\n",
              "  (act4): ReLU()\n",
              "  (conv5): Conv2d(256, 256, kernel_size=(3, 3), stride=(1, 1), padding=(1, 1))\n",
              "  (bn5): BatchNorm2d(256, eps=1e-05, momentum=0.1, affine=True, track_running_stats=True)\n",
              "  (act5): ReLU()\n",
              "  (conv6): Conv2d(256, 256, kernel_size=(3, 3), stride=(1, 1), padding=(1, 1))\n",
              "  (bn6): BatchNorm2d(256, eps=1e-05, momentum=0.1, affine=True, track_running_stats=True)\n",
              "  (act6): ReLU()\n",
              "  (conv7): Conv2d(256, 256, kernel_size=(3, 3), stride=(1, 1), padding=(2, 2), dilation=(2, 2))\n",
              "  (bn7): BatchNorm2d(256, eps=1e-05, momentum=0.1, affine=True, track_running_stats=True)\n",
              "  (act7): ReLU()\n",
              "  (conv8): Conv2d(256, 256, kernel_size=(3, 3), stride=(1, 1), padding=(4, 4), dilation=(4, 4))\n",
              "  (bn8): BatchNorm2d(256, eps=1e-05, momentum=0.1, affine=True, track_running_stats=True)\n",
              "  (act8): ReLU()\n",
              "  (conv9): Conv2d(256, 256, kernel_size=(3, 3), stride=(1, 1), padding=(8, 8), dilation=(8, 8))\n",
              "  (bn9): BatchNorm2d(256, eps=1e-05, momentum=0.1, affine=True, track_running_stats=True)\n",
              "  (act9): ReLU()\n",
              "  (conv10): Conv2d(256, 256, kernel_size=(3, 3), stride=(1, 1), padding=(16, 16), dilation=(16, 16))\n",
              "  (bn10): BatchNorm2d(256, eps=1e-05, momentum=0.1, affine=True, track_running_stats=True)\n",
              "  (act10): ReLU()\n",
              "  (conv11): Conv2d(256, 256, kernel_size=(3, 3), stride=(1, 1), padding=(1, 1))\n",
              "  (bn11): BatchNorm2d(256, eps=1e-05, momentum=0.1, affine=True, track_running_stats=True)\n",
              "  (act11): ReLU()\n",
              "  (conv12): Conv2d(256, 256, kernel_size=(3, 3), stride=(1, 1), padding=(1, 1))\n",
              "  (bn12): BatchNorm2d(256, eps=1e-05, momentum=0.1, affine=True, track_running_stats=True)\n",
              "  (act12): ReLU()\n",
              "  (deconv13): ConvTranspose2d(256, 128, kernel_size=(4, 4), stride=(2, 2), padding=(1, 1))\n",
              "  (bn13): BatchNorm2d(128, eps=1e-05, momentum=0.1, affine=True, track_running_stats=True)\n",
              "  (act13): ReLU()\n",
              "  (conv14): Conv2d(128, 128, kernel_size=(3, 3), stride=(1, 1), padding=(1, 1))\n",
              "  (bn14): BatchNorm2d(128, eps=1e-05, momentum=0.1, affine=True, track_running_stats=True)\n",
              "  (act14): ReLU()\n",
              "  (deconv15): ConvTranspose2d(128, 64, kernel_size=(4, 4), stride=(2, 2), padding=(1, 1))\n",
              "  (bn15): BatchNorm2d(64, eps=1e-05, momentum=0.1, affine=True, track_running_stats=True)\n",
              "  (act15): ReLU()\n",
              "  (conv16): Conv2d(64, 32, kernel_size=(3, 3), stride=(1, 1), padding=(1, 1))\n",
              "  (bn16): BatchNorm2d(32, eps=1e-05, momentum=0.1, affine=True, track_running_stats=True)\n",
              "  (act16): ReLU()\n",
              "  (conv17): Conv2d(32, 3, kernel_size=(3, 3), stride=(1, 1), padding=(1, 1))\n",
              "  (act17): Sigmoid()\n",
              ")"
            ]
          },
          "metadata": {},
          "execution_count": 16
        }
      ]
    },
    {
      "cell_type": "markdown",
      "source": [
        "## 実行"
      ],
      "metadata": {
        "id": "KEeHu6t4cGhq"
      }
    },
    {
      "cell_type": "code",
      "source": [
        "x = sample_random_batch(test, batch_size=bsize).to(device)\n",
        "# false\n",
        "mask = generate_mask((bsize, 1, 120, 120), hole_size=((36,72),(36,72)),\n",
        "                     hole_area=define_hole_area((72,72),(120,120))[0]).to(device)\n",
        "x_mask = x - x*mask + mpv*mask\n",
        "x_in = torch.cat((x_mask, mask), dim=1)\n",
        "x_out = model_cn(x_in)\n",
        "x_inpaint = get_completion_image(x_mask, x_out, mask).to(device)"
      ],
      "metadata": {
        "id": "oae3UWlbcD7F"
      },
      "execution_count": null,
      "outputs": []
    },
    {
      "cell_type": "code",
      "source": [
        "torch_score = fid_torch(model, x, x_inpaint, device)"
      ],
      "metadata": {
        "colab": {
          "base_uri": "https://localhost:8080/"
        },
        "id": "nT2pSCw9dZOM",
        "outputId": "3a9b9508-7b75-4776-ccd3-206424841bcc"
      },
      "execution_count": null,
      "outputs": [
        {
          "output_type": "stream",
          "name": "stderr",
          "text": [
            "/usr/local/lib/python3.7/dist-packages/torch/nn/functional.py:3635: UserWarning: Default upsampling behavior when mode=bicubic is changed to align_corners=False since 0.4.0. Please specify align_corners=True if the old behavior is desired. See the documentation of nn.Upsample for details.\n",
            "  \"See the documentation of nn.Upsample for details.\".format(mode)\n"
          ]
        }
      ]
    },
    {
      "cell_type": "code",
      "source": [
        "torch_score"
      ],
      "metadata": {
        "colab": {
          "base_uri": "https://localhost:8080/"
        },
        "id": "ghmpemZoexj2",
        "outputId": "87b85894-d4e6-4794-ad82-52a9c07ecf6d"
      },
      "execution_count": null,
      "outputs": [
        {
          "output_type": "execute_result",
          "data": {
            "text/plain": [
              "38.121981179433"
            ]
          },
          "metadata": {},
          "execution_count": 19
        }
      ]
    },
    {
      "cell_type": "code",
      "source": [
        "save_image(x_inpaint, os.path.join(result_dir, 'a.png'), nrow=32)"
      ],
      "metadata": {
        "id": "raXoRDNcfKF-"
      },
      "execution_count": null,
      "outputs": []
    },
    {
      "cell_type": "code",
      "source": [
        "out = x_inpaint.detach().cpu().numpy()\n",
        "out = out.transpose(0, 2, 3, 1)\n",
        "out.shape"
      ],
      "metadata": {
        "colab": {
          "base_uri": "https://localhost:8080/"
        },
        "id": "pFIREYfblG_F",
        "outputId": "471f7966-0a12-4460-b644-3936c4e48b05"
      },
      "execution_count": null,
      "outputs": [
        {
          "output_type": "execute_result",
          "data": {
            "text/plain": [
              "(32, 120, 120, 3)"
            ]
          },
          "metadata": {},
          "execution_count": 24
        }
      ]
    },
    {
      "cell_type": "code",
      "source": [
        "img = x.detach().cpu().numpy()\n",
        "img = img.transpose(0, 2, 3,1)\n",
        "img.shape"
      ],
      "metadata": {
        "colab": {
          "base_uri": "https://localhost:8080/"
        },
        "id": "QtlfgCmloD6J",
        "outputId": "516584cb-584b-4d5b-f89d-0c6c1df0f0b7"
      },
      "execution_count": null,
      "outputs": [
        {
          "output_type": "execute_result",
          "data": {
            "text/plain": [
              "(32, 120, 120, 3)"
            ]
          },
          "metadata": {},
          "execution_count": 63
        }
      ]
    },
    {
      "cell_type": "code",
      "source": [
        "import matplotlib.pyplot as plt"
      ],
      "metadata": {
        "id": "dFsTP0IFljrn"
      },
      "execution_count": null,
      "outputs": []
    },
    {
      "cell_type": "code",
      "source": [
        "fig, ax = plt.subplots(nrows=1, ncols=1, sharex=False)\n",
        "for i in range(bsize):\n",
        "  ax.imshow(out[i, :, :, :])\n",
        "  ax.axis('off')\n",
        "  fig.savefig(os.path.join(result_dir, 'valid', 'o{}.png'.format(i)))"
      ],
      "metadata": {
        "colab": {
          "base_uri": "https://localhost:8080/",
          "height": 248
        },
        "id": "V2YqNvhpleFL",
        "outputId": "26cda672-1867-4a28-db28-cb5abaf2eff9"
      },
      "execution_count": null,
      "outputs": [
        {
          "output_type": "display_data",
          "data": {
            "image/png": "[encoded data removed]",
            "text/plain": [
              "<Figure size 432x288 with 1 Axes>"
            ]
          },
          "metadata": {
            "needs_background": "light"
          }
        }
      ]
    },
    {
      "cell_type": "code",
      "source": [
        "fig, ax = plt.subplots(nrows=1, ncols=1, sharex=False)\n",
        "for i in range(bsize):\n",
        "  ax.imshow(img[i, :, :, :])\n",
        "  ax.axis('off')\n",
        "  fig.savefig(os.path.join(result_dir, 'valid', 'i{}.png'.format(i)))"
      ],
      "metadata": {
        "id": "ZD46O8kcoZBc",
        "outputId": "d52243b4-6bac-44ce-ede5-2027c7e055c5",
        "colab": {
          "base_uri": "https://localhost:8080/",
          "height": 248
        }
      },
      "execution_count": null,
      "outputs": [
        {
          "output_type": "display_data",
          "data": {
            "image/png": "[encoded data removed]",
            "text/plain": [
              "<Figure size 432x288 with 1 Axes>"
            ]
          },
          "metadata": {
            "needs_background": "light"
          }
        }
      ]
    }
  ]
}